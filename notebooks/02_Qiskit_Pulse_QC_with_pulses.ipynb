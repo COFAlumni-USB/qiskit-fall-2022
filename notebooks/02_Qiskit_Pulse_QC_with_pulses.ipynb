{
 "cells": [
  {
   "cell_type": "markdown",
   "id": "880d645e",
   "metadata": {},
   "source": [
    "# Compuertas a nivel de pulsos\n",
    "(Tutorial introductorio)"
   ]
  },
  {
   "cell_type": "markdown",
   "id": "6d883692",
   "metadata": {},
   "source": [
    "La mayoría de los algoritmos pueden ser descritos solamente con operaciones de circuitos. Cuando es necesario precisar más control sobre la implementación a bajo nivel del programa (i.e., circuito/algoritmo cuántico) podemos usar \"pulse gates\" o compuertas de pulsos. Las _Pulse gates_, elimina la restricción de la ejecución de circuitos solamente utilizando la base de compuertas, y también permite sobre-escribir la implementación por defecto de cada base de compuertas.\n",
    "\n",
    "Las _Pulse gates_ permiten hacer un mapa a un circuito lógico e.g., ```X``` a un programa de Qiskit Pulse, llamado \"_schedule_\" (calendario en castellano). Este mapa se le denota como \"_calibration_\" o calibración en castellano. Una calibración con alta fidelidad es aquella que implementa fielmente las operaciones lógicas fielmente, y que implementa la operación lógica desde la cual es asignada. Es decir, el desempeño de la operación ```X```, tal que la calibración en efecto transforme $|0\\rangle \\rightarrow |1\\rangle$.\n",
    "\n",
    "\n",
    "Un _Schedule_ (calendario) especifíca el tiempo exacto de la dinámica en de cada una de las señales de entrada a lo largo de todos los canales (\"_channels_\") de entrada del dispositivo. Usualmente, hay múltiples canales para cada _qubit_, tales como los de manipulación y de medida (\"_drive_\" y \"_measure_\" respectivamente en inglés). Esta interface es más potente y requiere de una comprensión más profunda de la física que ocurre en los dispositivos.\n",
    "\n",
    "Es importante notar que los programas de _Pulse_ operan con _qubits_ físicos. Un pulso que manipulación sobre un _qubit_ \"a\", no actúa como la misma operación lígca en el estado de un _qubit_ \"b\". En otras palabras, las calibraciones son unicas para cada _qubit_ y no se pueden intercambiar entre _qubits_. Esto es diferente en la programación al nivel de circuitos cuánticos, donde la compuerta ```X``` es definida independientemente sobre el _qubit_ físico sobre el que esté operando.\n",
    "\n",
    "Este tutorial muestra como añadir calibraciones a tu circuito de manera que el programa del circuito a alto nivel sea \"consciente\" de la física subyacente."
   ]
  },
  {
   "cell_type": "markdown",
   "id": "09ab74d8",
   "metadata": {
    "ExecuteTime": {
     "end_time": "2022-10-30T12:43:30.270670Z",
     "start_time": "2022-10-30T12:43:30.264897Z"
    }
   },
   "source": [
    "<div class=\"alert alert-block alert-info\"> <b>NOTA</b> <br>\n",
    "    <br>\n",
    "    Para ejecutar las compuertas con pulso, el <code>backend</code> tiene que estar habilitado con <i>OpenPulse</i>. Puede ser chequeado utilizando:\n",
    "    <br>\n",
    "<br><code>backend.configuration().open_pulse</code><br>    \n",
    "    <br>\n",
    "    el cual debe estar habilitado (<code>True</code>) cuando <i>OpenPulse</i> se encuentre activado. Si esta habilitado y las características de \"<i>pulse gates</i>\" no lo esten, pueden agendar el circuito de entrada.\n",
    "\n",
    "</div>\n",
    "\n"
   ]
  },
  {
   "cell_type": "markdown",
   "id": "95e81154",
   "metadata": {},
   "source": [
    "# Preparación de librerías"
   ]
  },
  {
   "cell_type": "markdown",
   "id": "6abae53d",
   "metadata": {},
   "source": [
    "Comencemos importando todas las funciones y librerías que vayamos a usar, recuerda que al ejecutar esta librería las funciones y paquetes de python quedan cargados en la memoria, al reinicializar el kernel es necesario volver a ejecutar esta celda."
   ]
  },
  {
   "cell_type": "code",
   "execution_count": 17,
   "id": "3653ea78",
   "metadata": {
    "ExecuteTime": {
     "end_time": "2022-10-30T13:09:30.748668Z",
     "start_time": "2022-10-30T13:09:30.745634Z"
    }
   },
   "outputs": [],
   "source": [
    "#Para la construccion de circuitos cuanticos\n",
    "from qiskit import QuantumCircuit, execute\n",
    "\n",
    "#Para la construccion de las calibraciones y su vinculacion\n",
    "from qiskit import pulse, transpile\n",
    "from qiskit.pulse.library import Gaussian\n",
    "from qiskit.providers.fake_provider import FakeValencia, FakeHanoi\n",
    "\n",
    "#Compuertas personalizadas\n",
    "from qiskit.circuit import Gate\n",
    "from qiskit import QiskitError\n",
    "\n",
    "#informacion\n",
    "import qiskit.tools.jupyter\n"
   ]
  },
  {
   "cell_type": "markdown",
   "id": "497a89e2",
   "metadata": {
    "ExecuteTime": {
     "end_time": "2022-10-30T12:14:08.372119Z",
     "start_time": "2022-10-30T12:14:08.369294Z"
    }
   },
   "source": [
    "## Construyendo el circuito"
   ]
  },
  {
   "cell_type": "markdown",
   "id": "d0dfd9a8",
   "metadata": {},
   "source": [
    "Comencemos haciendo un circuito relativamente sencillo, que genere un estado de Bell. El estado de Bell es un estado de dos _qubits_ que presenta máximo nivel de entrelazamiento. \n",
    "\n",
    "Este circuito se compone de una compuerta Hadamard (H) en el _qubit_ 0 y una compuerta de dos _qubits_ control ```X``` (CNOT) con el _qubit_ 0 como control, y el _qubit_ 1 como _target_. Al final del circuito dos compuertas de medidas para cada _qubit_."
   ]
  },
  {
   "cell_type": "code",
   "execution_count": 27,
   "id": "a6602cbc",
   "metadata": {
    "ExecuteTime": {
     "end_time": "2022-10-30T13:14:34.322048Z",
     "start_time": "2022-10-30T13:14:34.205948Z"
    },
    "scrolled": true
   },
   "outputs": [
    {
     "data": {
      "image/png": "[encoded data removed]",
      "text/plain": [
       "<Figure size 327.252x204.68 with 1 Axes>"
      ]
     },
     "execution_count": 27,
     "metadata": {},
     "output_type": "execute_result"
    }
   ],
   "source": [
    "circ = QuantumCircuit(2, 2);\n",
    "circ.h(0);\n",
    "circ.cx(0, 1);\n",
    "circ.measure(0, 0);\n",
    "circ.measure(1, 1);\n",
    "\n",
    "circ.draw('mpl');"
   ]
  },
  {
   "cell_type": "code",
   "execution_count": 32,
   "id": "484c3ec8",
   "metadata": {
    "ExecuteTime": {
     "end_time": "2022-10-30T13:14:52.252455Z",
     "start_time": "2022-10-30T13:14:52.042479Z"
    }
   },
   "outputs": [
    {
     "name": "stdout",
     "output_type": "stream",
     "text": [
      "El resultado de la estadística es: \n",
      "|00>: 489  \n",
      "|01>: 33  \n",
      "|10>: 24  \n",
      "|11>: 478\n"
     ]
    }
   ],
   "source": [
    "result = execute(circ, backend=FakeValencia()).result();\n",
    "counts = result.get_counts();\n",
    "print(\"El resultado de la estadística es: \\n|00>: {S00}  \\n|01>: {S01}  \\n|10>: {S10}  \\n|11>: {S11}\".format(S00=counts['00'],S01=counts['01'],S10=counts['10'],S11=counts['11']))"
   ]
  },
  {
   "cell_type": "markdown",
   "id": "9cf3bb31",
   "metadata": {},
   "source": [
    "## Construyendo las calibraciones"
   ]
  },
  {
   "cell_type": "markdown",
   "id": "7bdae7a7",
   "metadata": {},
   "source": [
    "Ahora es momento de definir la calibración de una de las compuetas, elijamos la compuerta Hadamard sobre el _qubit_ 0.\n",
    "\n",
    "En la practica, la forma de pulso y sus parametros serán optimizados a través de una serie de experimentos llamados [Experimentos de Rabi (Qiskit Textbook)](https://qiskit.org/textbook/ch-quantum-hardware/calibrating-qubits-openpulse.html).\n",
    "\n",
    "Para esta demostración, la compuerta Hadamard será un pulso Gaussiano. Reproduciremos (```play```) este pulso en el canal de manipulación (```drive channel```) del _qubit_ 0.\n",
    "\n",
    "Trabajaremos a más detalle con las calibraciones en otro tutorial sobre construcción de _Schedules_."
   ]
  },
  {
   "cell_type": "code",
   "execution_count": 41,
   "id": "66905704",
   "metadata": {
    "ExecuteTime": {
     "end_time": "2022-10-30T13:29:46.373119Z",
     "start_time": "2022-10-30T13:29:46.362533Z"
    }
   },
   "outputs": [],
   "source": [
    "backend = FakeValencia();\n",
    "\n",
    "with pulse.build(backend, name='hadamard') as h_q0:\n",
    "    pulse.play(Gaussian(duration=100, amp=0.1, sigma=3), pulse.drive_channel(0));\n"
   ]
  },
  {
   "cell_type": "markdown",
   "id": "cdcf4f63",
   "metadata": {},
   "source": [
    "Graficamos el pulso:"
   ]
  },
  {
   "cell_type": "code",
   "execution_count": 42,
   "id": "3e313734",
   "metadata": {
    "ExecuteTime": {
     "end_time": "2022-10-30T13:29:46.783269Z",
     "start_time": "2022-10-30T13:29:46.687198Z"
    }
   },
   "outputs": [
    {
     "data": {
      "image/png": "[encoded data removed]",
      "text/plain": [
       "<Figure size 936x118.8 with 1 Axes>"
      ]
     },
     "execution_count": 42,
     "metadata": {},
     "output_type": "execute_result"
    }
   ],
   "source": [
    "h_q0.draw()"
   ]
  },
  {
   "cell_type": "markdown",
   "id": "c3189ab7",
   "metadata": {},
   "source": [
    "Ahora usaremos de ahora en adelante el siguiente pulso con:\n",
    "\n",
    "    -Duración del pulso 128 muestras para período de muestreo de 16,\n",
    "    -Amplitud de la función gaussiana de 1\n",
    "    -Desviación estándar de 16."
   ]
  },
  {
   "cell_type": "code",
   "execution_count": 3,
   "id": "66102a62",
   "metadata": {
    "ExecuteTime": {
     "end_time": "2022-10-30T12:14:49.131850Z",
     "start_time": "2022-10-30T12:14:48.387957Z"
    }
   },
   "outputs": [],
   "source": [
    "backend = FakeValencia()ñ\n",
    "\n",
    "with pulse.build(backend, name='hadamard') as h_q0:\n",
    "    pulse.play(Gaussian(duration=128, amp=0.1, sigma=16), pulse.drive_channel(0))"
   ]
  },
  {
   "cell_type": "markdown",
   "id": "75e671db",
   "metadata": {},
   "source": [
    "Graficamos el pulso:"
   ]
  },
  {
   "cell_type": "code",
   "execution_count": 4,
   "id": "e8305cc1",
   "metadata": {
    "ExecuteTime": {
     "end_time": "2022-10-30T12:14:55.927550Z",
     "start_time": "2022-10-30T12:14:55.813462Z"
    }
   },
   "outputs": [
    {
     "data": {
      "image/png": "[encoded data removed]",
      "text/plain": [
       "<Figure size 936x118.8 with 1 Axes>"
      ]
     },
     "execution_count": 4,
     "metadata": {},
     "output_type": "execute_result"
    }
   ],
   "source": [
    "h_q0.draw()"
   ]
  },
  {
   "cell_type": "markdown",
   "id": "a9a053d6",
   "metadata": {},
   "source": [
    "## Vincula la calibracion con tu circuito"
   ]
  },
  {
   "cell_type": "markdown",
   "id": "942c9e38",
   "metadata": {},
   "source": [
    "Ahora que tenemos la calibración, queda completar el registro de la misma en el circuito cuántico. El método ```add_calibration``` necesita información sobre la compuerta y la referencia del calendario (_schedule_) para completar el mapa:\n",
    "\n",
    "```QuantumCircuit.add_calibration(gate, qubits, schedule, parameters)```\n",
    "\n",
    "```gate``` puede ser o bien un objeto tipo ```circuit.Gate``` o el nombre la compuerta. ***Usualmente, puedes necesitar un _schedule_ diferente para set de _qubits_ y _parameters_.*** Ya que la compuerta Hadamard no require de ningún parámetro (no es una compuerta paramétrica), no añadimos ninguno."
   ]
  },
  {
   "cell_type": "code",
   "execution_count": 5,
   "id": "9bc37090",
   "metadata": {
    "ExecuteTime": {
     "end_time": "2022-10-30T12:15:18.323498Z",
     "start_time": "2022-10-30T12:15:18.315641Z"
    }
   },
   "outputs": [],
   "source": [
    "circ.add_calibration('h', [0], h_q0)"
   ]
  },
  {
   "cell_type": "markdown",
   "id": "b53641ad",
   "metadata": {},
   "source": [
    "Finalmente, nota que el _transpiler_ va a respetar tus calibraciones. Úsalas como tu normalmente lo harías (este ejemplo es un muy sencillo para que el transpilador lo optimice.)"
   ]
  },
  {
   "cell_type": "code",
   "execution_count": 6,
   "id": "6eede739",
   "metadata": {
    "ExecuteTime": {
     "end_time": "2022-10-30T12:15:25.023158Z",
     "start_time": "2022-10-30T12:15:24.315463Z"
    }
   },
   "outputs": [
    {
     "name": "stdout",
     "output_type": "stream",
     "text": [
      "['id', 'rz', 'sx', 'x', 'cx', 'reset']\n"
     ]
    },
    {
     "data": {
      "image/png": "[encoded data removed]",
      "text/plain": [
       "<Figure size 425.238x204.68 with 1 Axes>"
      ]
     },
     "execution_count": 6,
     "metadata": {},
     "output_type": "execute_result"
    }
   ],
   "source": [
    "backend = FakeHanoi()\n",
    "\n",
    "circ = transpile(circ, backend)\n",
    "\n",
    "print(backend.configuration().basis_gates)\n",
    "circ.draw('mpl', idle_wires=False)"
   ]
  },
  {
   "cell_type": "code",
   "execution_count": 43,
   "id": "63bdec8c",
   "metadata": {
    "ExecuteTime": {
     "end_time": "2022-10-30T13:46:44.737888Z",
     "start_time": "2022-10-30T13:46:44.415076Z"
    }
   },
   "outputs": [
    {
     "name": "stdout",
     "output_type": "stream",
     "text": [
      "El resultado de la estadística es: \n",
      "|00>: 512  \n",
      "|01>: 38  \n",
      "|10>: 29  \n",
      "|11>: 445\n"
     ]
    }
   ],
   "source": [
    "result = execute(circ, backend=FakeValencia()).result();\n",
    "counts = result.get_counts();\n",
    "print(\"El resultado de la estadística es: \\n|00>: {S00}  \\n|01>: {S01}  \\n|10>: {S10}  \\n|11>: {S11}\".format(S00=counts['00'],S01=counts['01'],S10=counts['10'],S11=counts['11']))"
   ]
  },
  {
   "cell_type": "markdown",
   "id": "5c5ed890",
   "metadata": {},
   "source": [
    "Nota que ```h``` no es una base para el _backend_ simulado de ```FakeHanoi```. Ya que hemos añadido una calibración para ello, el transpilador va a tratar nuestra compuerta como una compuerta de la base; sin embargo, solamente para los _qubits_ a los cuales se la ha definido. Una compuerta Hadamard aplicada a un _qubit_ distinto, se le descompondrá en su base de compuertas."
   ]
  },
  {
   "cell_type": "markdown",
   "id": "fa5e6bd2",
   "metadata": {
    "ExecuteTime": {
     "end_time": "2022-10-30T12:15:44.899981Z",
     "start_time": "2022-10-30T12:15:44.897841Z"
    }
   },
   "source": [
    "## Compuertas personalizadas"
   ]
  },
  {
   "cell_type": "markdown",
   "id": "ca5cf6b5",
   "metadata": {},
   "source": [
    "Vamos a mostrar brevemente como es el procedimeinto no-estandarizado de compuertas personalizadas. Esta demostración incluye una compuerta con parámetros."
   ]
  },
  {
   "cell_type": "code",
   "execution_count": 7,
   "id": "e87bf2c7",
   "metadata": {
    "ExecuteTime": {
     "end_time": "2022-10-30T12:15:32.302137Z",
     "start_time": "2022-10-30T12:15:32.219480Z"
    }
   },
   "outputs": [
    {
     "data": {
      "image/png": "[encoded data removed]",
      "text/plain": [
       "<Figure size 314.126x144.48 with 1 Axes>"
      ]
     },
     "execution_count": 7,
     "metadata": {},
     "output_type": "execute_result"
    }
   ],
   "source": [
    "circ = QuantumCircuit(1, 1)\n",
    "custom_gate = Gate('my_custom_gate', 1, [3.14, 1])\n",
    "# 3.14 is an arbitrary parameter for demonstration\n",
    "circ.append(custom_gate, [0])\n",
    "circ.measure(0, 0)\n",
    "\n",
    "circ.draw('mpl')"
   ]
  },
  {
   "cell_type": "code",
   "execution_count": 9,
   "id": "b9b44cfd",
   "metadata": {
    "ExecuteTime": {
     "end_time": "2022-10-30T12:16:00.824824Z",
     "start_time": "2022-10-30T12:16:00.815234Z"
    }
   },
   "outputs": [],
   "source": [
    "with pulse.build(backend, name='custom') as my_schedule:\n",
    "    pulse.play(Gaussian(duration=64, amp=0.2, sigma=8), pulse.drive_channel(0))\n",
    "\n",
    "circ.add_calibration('my_custom_gate', [0], my_schedule, [3.14, 1])\n",
    "# Alternatively: circ.add_calibration(custom_gate, [0], my_schedule)"
   ]
  },
  {
   "cell_type": "markdown",
   "id": "bba80916",
   "metadata": {},
   "source": [
    "Si usamos la variable ```custom_gate``` de la instancia ```Gate``` para añadir la calibración, los parámetros son derivados de la instancia. Recuerda que el orden de los parámetros es importante."
   ]
  },
  {
   "cell_type": "code",
   "execution_count": 10,
   "id": "3bbfd427",
   "metadata": {
    "ExecuteTime": {
     "end_time": "2022-10-30T12:16:05.262543Z",
     "start_time": "2022-10-30T12:16:05.158787Z"
    }
   },
   "outputs": [
    {
     "data": {
      "image/png": "[encoded data removed]",
      "text/plain": [
       "<Figure size 424.947x144.48 with 1 Axes>"
      ]
     },
     "execution_count": 10,
     "metadata": {},
     "output_type": "execute_result"
    }
   ],
   "source": [
    "circ = transpile(circ, backend)\n",
    "circ.draw('mpl', idle_wires=False)"
   ]
  },
  {
   "cell_type": "markdown",
   "id": "50542a24",
   "metadata": {},
   "source": [
    "Normalmente, si intentamos transpilar nuestro ```circ```, puede que obtengamos un error. Ya que una definicion funcional no ha sido provista para ```my_custom_gate```, el transpilador no puede descomponerla en la base del conjunto de compuerta del dispositivo seleccionado. Podemos mostrar esto, intentando añadir ```my_custom_gate``` a otro _qubit_ que no ha sido calibrado."
   ]
  },
  {
   "cell_type": "code",
   "execution_count": 11,
   "id": "df079a3d",
   "metadata": {
    "ExecuteTime": {
     "end_time": "2022-10-30T12:16:13.757449Z",
     "start_time": "2022-10-30T12:16:13.747902Z"
    }
   },
   "outputs": [
    {
     "name": "stdout",
     "output_type": "stream",
     "text": [
      "\"Cannot unroll the circuit to the given basis, ['id', 'rz', 'sx', 'x', 'cx', 'reset']. Instruction my_custom_gate not found in equivalence library and no rule found to expand.\"\n"
     ]
    }
   ],
   "source": [
    "circ = QuantumCircuit(2, 2)\n",
    "circ.append(custom_gate, [1])\n",
    "\n",
    "\n",
    "from qiskit import QiskitError\n",
    "try:\n",
    "    circ = transpile(circ, backend)\n",
    "except QiskitError as e:\n",
    "    print(e)"
   ]
  },
  {
   "cell_type": "markdown",
   "id": "58cf8900",
   "metadata": {},
   "source": [
    "---"
   ]
  },
  {
   "cell_type": "markdown",
   "id": "38ab2e1e",
   "metadata": {},
   "source": [
    "Basado en [este notebook tutorial](https://github.com/Qiskit/qiskit-tutorials/blob/master/tutorials/circuits_advanced/05_pulse_gates.ipynb), para el [Qiskit Fall Fest - Venezuela (Universidad Simón Bolívar)](www.cofalumniusb.org/qiskit-fall).\n",
    "\n",
    "\n",
    "Adaptado y traducido por: [**Manuel Morgado**](morgadovargas@unistra.fr) | Université de Strasbourg et Centre Européen de Sciences Quantiques "
   ]
  },
  {
   "cell_type": "code",
   "execution_count": 15,
   "id": "115932df",
   "metadata": {
    "ExecuteTime": {
     "end_time": "2022-10-30T13:04:30.453603Z",
     "start_time": "2022-10-30T13:04:30.436938Z"
    }
   },
   "outputs": [
    {
     "data": {
      "text/html": [
       "<h3>Version Information</h3><table><tr><th>Qiskit Software</th><th>Version</th></tr><tr><td><code>qiskit-terra</code></td><td>0.22.0</td></tr><tr><td><code>qiskit-aer</code></td><td>0.11.0</td></tr><tr><td><code>qiskit-ignis</code></td><td>0.7.0</td></tr><tr><td><code>qiskit-ibmq-provider</code></td><td>0.19.2</td></tr><tr><td><code>qiskit</code></td><td>0.39.0</td></tr><tr><th>System information</th></tr><tr><td>Python version</td><td>3.9.7</td></tr><tr><td>Python compiler</td><td>GCC 7.5.0</td></tr><tr><td>Python build</td><td>default, Sep 16 2021 13:09:58</td></tr><tr><td>OS</td><td>Linux</td></tr><tr><td>CPUs</td><td>6</td></tr><tr><td>Memory (Gb)</td><td>15.325302124023438</td></tr><tr><td colspan='2'>Sun Oct 30 14:04:30 2022 CET</td></tr></table>"
      ],
      "text/plain": [
       "<IPython.core.display.HTML object>"
      ]
     },
     "metadata": {},
     "output_type": "display_data"
    },
    {
     "data": {
      "text/html": [
       "<div style='width: 100%; background-color:#d5d9e0;padding-left: 10px; padding-bottom: 10px; padding-right: 10px; padding-top: 5px'><h3>This code is a part of Qiskit</h3><p>&copy; Copyright IBM 2017, 2022.</p><p>This code is licensed under the Apache License, Version 2.0. You may<br>obtain a copy of this license in the LICENSE.txt file in the root directory<br> of this source tree or at http://www.apache.org/licenses/LICENSE-2.0.<p>Any modifications or derivative works of this code must retain this<br>copyright notice, and modified files need to carry a notice indicating<br>that they have been altered from the originals.</p></div>"
      ],
      "text/plain": [
       "<IPython.core.display.HTML object>"
      ]
     },
     "metadata": {},
     "output_type": "display_data"
    }
   ],
   "source": [
    "%qiskit_version_table\n",
    "%qiskit_copyright"
   ]
  }
 ],
 "metadata": {
  "kernelspec": {
   "display_name": "Python 3 (ipykernel)",
   "language": "python",
   "name": "python3"
  },
  "language_info": {
   "codemirror_mode": {
    "name": "ipython",
    "version": 3
   },
   "file_extension": ".py",
   "mimetype": "text/x-python",
   "name": "python",
   "nbconvert_exporter": "python",
   "pygments_lexer": "ipython3",
   "version": "3.9.7"
  },
  "latex_envs": {
   "LaTeX_envs_menu_present": true,
   "autoclose": false,
   "autocomplete": true,
   "bibliofile": "biblio.bib",
   "cite_by": "apalike",
   "current_citInitial": 1,
   "eqLabelWithNumbers": true,
   "eqNumInitial": 1,
   "hotkeys": {
    "equation": "Ctrl-E",
    "itemize": "Ctrl-I"
   },
   "labels_anchors": false,
   "latex_user_defs": false,
   "report_style_numbering": false,
   "user_envs_cfg": false
  },
  "toc": {
   "base_numbering": 1,
   "nav_menu": {},
   "number_sections": true,
   "sideBar": true,
   "skip_h1_title": false,
   "title_cell": "Table of Contents",
   "title_sidebar": "Contents",
   "toc_cell": false,
   "toc_position": {},
   "toc_section_display": true,
   "toc_window_display": false
  }
 },
 "nbformat": 4,
 "nbformat_minor": 5
}
