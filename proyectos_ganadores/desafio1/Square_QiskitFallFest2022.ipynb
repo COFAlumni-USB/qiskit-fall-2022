{
  "cells": [
    {
      "cell_type": "code",
      "execution_count": 17,
      "metadata": {
        "colab": {
          "base_uri": "https://localhost:8080/"
        },
        "id": "Ek-WVS_rW1r-",
        "outputId": "44b5f4e0-9769-4d1d-dc00-dc736aa20e56"
      },
      "outputs": [
        {
          "output_type": "stream",
          "name": "stdout",
          "text": [
            "Looking in indexes: https://pypi.org/simple, https://us-python.pkg.dev/colab-wheels/public/simple/\n",
            "Requirement already satisfied: pylatexenc in /usr/local/lib/python3.7/dist-packages (2.10)\n"
          ]
        }
      ],
      "source": [
        "#For Python and advanced manipulation import these packages\n",
        "try:\n",
        "  import numpy as np\n",
        "except:\n",
        "  !pip install numpy\n",
        "  import numpy as np\n",
        "\n",
        "\n",
        "try:\n",
        "  import qiskit\n",
        "except:\n",
        "  !pip install qiskit\n",
        "  import qiskit\n",
        "\n",
        "\n",
        "try:\n",
        "  !pip install pylatexenc\n",
        "  estilo = 'mpl'\n",
        "  QuantumCircuit(1).draw(estilo)\n",
        "except:\n",
        "  estilo = 'text'"
      ]
    },
    {
      "cell_type": "code",
      "execution_count": 18,
      "metadata": {
        "id": "eCyZOeSpkqs9"
      },
      "outputs": [],
      "source": [
        "#Libraries for quantum circuits\n",
        "from qiskit import QuantumCircuit, execute\n",
        "\n",
        "#For calibration\n",
        "from qiskit import pulse, transpile\n",
        "from qiskit.pulse.library import Gaussian\n",
        "\n",
        "#Personalized gates\n",
        "from qiskit.circuit import Gate\n",
        "from qiskit import QiskitError\n",
        "\n",
        "#For information\n",
        "import qiskit.tools.jupyter"
      ]
    },
    {
      "cell_type": "code",
      "execution_count": null,
      "metadata": {
        "id": "Ys-b_Ld6uW_C"
      },
      "outputs": [],
      "source": [
        "from qiskit import IBMQ\n",
        "\n",
        "#Load our IBM Quantum account\n",
        "provider = IBMQ.enable_account(\"c8440457d4ccb10786816758f1ffd909ea528ea12c2ac744598dd73ec90d1476ffa9f58251d0db77b256bcb655f85be37e3163e5548178ed618bc2ec2c57fbf4\")\n",
        "provider.backends()"
      ]
    },
    {
      "cell_type": "code",
      "execution_count": 20,
      "metadata": {
        "colab": {
          "base_uri": "https://localhost:8080/",
          "height": 684,
          "referenced_widgets": [
            "d7be2bcb04c54cbb9c2db0bc2ef90f74",
            "dada061cb6a644408876a44d25391327",
            "1bf3e18c03e346958012a4a9a047ea5f",
            "3265a4cb09b04e9cb1c6ea6ff359497f",
            "6c122a8b61f6470db0373526d7ea95e3",
            "4cb9464546454dc18d747264404c334e",
            "d5896216e9974713a898421e1a792b12",
            "90daaf253772499c8c4b5eb55b77fdea",
            "dbf911150f134c3ab2c9a6208b07095b",
            "86d2db9b16054616be2844a150db243f",
            "d132fb8451004229a4e5319623b80032",
            "c9e5d2cf463a4fa291e3c285f1d3cca7",
            "664f49606aba4a51819b3c96a3f5fc03",
            "cfd9edff7a764906a03b78c687bde6c5",
            "45004e8b866f45b6a4b5727f1030f5e8",
            "3d313e917ead48eda923d2428a940910",
            "387c93bcc2e647e3b764aadf594cf754",
            "6bceac070d5c4040aeca31a24abcbd60",
            "3acba4717cda432d92f8eaaf266dcc0a",
            "018e222548f74f4a901d0fa352761ce6",
            "ea8bc05990d54617994933d4061ee047",
            "d8e4989f31e04955809304805c516ea8",
            "c8e20d28aad94b8181dd00c1bd729315",
            "1b2fd89c69b4472283ad4f05b8d4c674",
            "9ed06cc401654ff9853b63340f7cc861",
            "eaeb1eaf2ec9423ba61b83b2404de530",
            "5e1f055640e640b5b71cdc7a7aa0ffbd",
            "8a408d22d4f4435b9bd327ad70547b86",
            "49c72fb3ff4545269989fb8730622c7c",
            "62e21e77b1234f83b027fe1ce8b8f617",
            "e304b7cfdc644c32a16628b6a5209f48",
            "629eeb1c0b064243ae63e54bfa50e0e8",
            "4e09f876eb204290a0c15972d5e462a0",
            "5dda32cd65714a08ab35200402a07023",
            "76c5647bff9a44d7b5c1a9b554fd75ab",
            "6651a4fea73a4d8c8399461d179e3aae",
            "e0b8e2056029436c99d4928a4558fffc",
            "f8b0010c5e8e4338ad831685a9c704b9",
            "fc086e0a10744e4e838c2afb5c577c8d",
            "123aac27264146d79e454a2c86e1b28f",
            "122f4cd639704587a7109646013547cb",
            "9c54aabc1a6e40cb84f3d0524dfaefd5",
            "b3e547b1aa184aa5b87fea12208e664a"
          ]
        },
        "id": "OSNjVR6KuW4g",
        "outputId": "5650ffcd-e3a1-4f23-8137-3ceb735a637b"
      },
      "outputs": [
        {
          "output_type": "display_data",
          "data": {
            "text/plain": [
              "VBox(children=(HTML(value=\"<h1 style='color:#ffffff;background-color:#000000;padding-top: 1%;padding-bottom: 1…"
            ],
            "application/vnd.jupyter.widget-view+json": {
              "version_major": 2,
              "version_minor": 0,
              "model_id": "d7be2bcb04c54cbb9c2db0bc2ef90f74"
            }
          },
          "metadata": {}
        },
        {
          "output_type": "execute_result",
          "data": {
            "text/plain": [
              "<IBMQBackend('ibmq_belem') from IBMQ(hub='ibm-q', group='open', project='main')>"
            ]
          },
          "metadata": {},
          "execution_count": 20
        }
      ],
      "source": [
        "from qiskit.providers.ibmq import least_busy\n",
        "\n",
        "#This searches for the least busy backend, with 5 qubits\n",
        "small_devices = provider.backends(filters=lambda x: x.configuration().n_qubits == 5\n",
        "                                   and not x.configuration().simulator)\n",
        "least_busy(small_devices)"
      ]
    },
    {
      "cell_type": "code",
      "execution_count": 21,
      "metadata": {
        "id": "ZNT6K2-mthcC"
      },
      "outputs": [],
      "source": [
        "#Once we saw which backend was lest busy, we choose it with .get_backend() \n",
        "provider = IBMQ.get_provider(hub='ibm-q', group='open', project='main')\n",
        "backend = provider.get_backend('ibmq_belem')"
      ]
    },
    {
      "cell_type": "code",
      "execution_count": 22,
      "metadata": {
        "id": "JptO9RLUxNIN",
        "colab": {
          "base_uri": "https://localhost:8080/"
        },
        "outputId": "60772edc-26b7-4279-b776-acc7aa24aa08"
      },
      "outputs": [
        {
          "output_type": "stream",
          "name": "stdout",
          "text": [
            "<qiskit.providers.models.backendconfiguration.PulseBackendConfiguration object at 0x7f33d437be10>\n"
          ]
        }
      ],
      "source": [
        "backend_config = backend.configuration()\n",
        "print(backend_config)"
      ]
    },
    {
      "cell_type": "code",
      "execution_count": 23,
      "metadata": {
        "colab": {
          "base_uri": "https://localhost:8080/"
        },
        "id": "LArMk7qTyxI9",
        "outputId": "0780e42c-46eb-4272-918b-ede12803915b"
      },
      "outputs": [
        {
          "output_type": "stream",
          "name": "stdout",
          "text": [
            "Sampling time: 0.2222222222222222 ns\n"
          ]
        }
      ],
      "source": [
        "#Sampling time of the pulses\n",
        "\n",
        "dt = backend_config.dt\n",
        "print(f\"Sampling time: {dt*1e9} ns\") "
      ]
    },
    {
      "cell_type": "code",
      "execution_count": 24,
      "metadata": {
        "colab": {
          "base_uri": "https://localhost:8080/"
        },
        "id": "vLf3yo2D0lUU",
        "outputId": "8e32b67f-9db2-4b4a-f34e-843e652f1579"
      },
      "outputs": [
        {
          "output_type": "execute_result",
          "data": {
            "text/plain": [
              "{'acquire_alignment': 16,\n",
              " 'granularity': 16,\n",
              " 'min_length': 64,\n",
              " 'pulse_alignment': 1}"
            ]
          },
          "metadata": {},
          "execution_count": 24
        }
      ],
      "source": [
        "#Timing constraint of the backend\n",
        "backend.configuration().timing_constraints"
      ]
    },
    {
      "cell_type": "code",
      "execution_count": 25,
      "metadata": {
        "id": "JqMAFY5726qo"
      },
      "outputs": [],
      "source": [
        "#We get those values and save it in a variable\n",
        "acquire_alignment = backend.configuration().timing_constraints['acquire_alignment']\n",
        "granularity = backend.configuration().timing_constraints['granularity']\n",
        "pulse_alignment = backend.configuration().timing_constraints['pulse_alignment']"
      ]
    },
    {
      "cell_type": "code",
      "execution_count": 26,
      "metadata": {
        "colab": {
          "base_uri": "https://localhost:8080/"
        },
        "id": "xSclnx7G3cMg",
        "outputId": "e3fcc014-ba24-4ded-a685-15762ba8112e"
      },
      "outputs": [
        {
          "output_type": "stream",
          "name": "stdout",
          "text": [
            "Least common multiple of acquire_alignment and pulse_alignment: 16\n"
          ]
        }
      ],
      "source": [
        "lcm = np.lcm(acquire_alignment, pulse_alignment)\n",
        "print(f\"Least common multiple of acquire_alignment and pulse_alignment: {lcm}\")"
      ]
    },
    {
      "cell_type": "code",
      "execution_count": 27,
      "metadata": {
        "id": "CLR2hBIv3fsy"
      },
      "outputs": [],
      "source": [
        "backend_defaults = backend.defaults()"
      ]
    },
    {
      "cell_type": "code",
      "execution_count": 28,
      "metadata": {
        "colab": {
          "base_uri": "https://localhost:8080/"
        },
        "id": "jPBtbJ2g4g1V",
        "outputId": "010d6729-779c-4e6e-ca51-c72f6e55ec1d"
      },
      "outputs": [
        {
          "output_type": "stream",
          "name": "stdout",
          "text": [
            "Qubit 0 has an estimated frequency of 5.090211874901602 GHz.\n",
            "The sweep will go from 5.070211874901601 GHz to 5.1102118749016014 GHz in steps of 1.0 MHz.\n"
          ]
        }
      ],
      "source": [
        "#Finding qubit's frequency\n",
        "\n",
        "#Defining units\n",
        "GHz = 1.0e9 # Gigahertz\n",
        "MHz = 1.0e6 # Megahertz\n",
        "us = 1.0e-6 # Microseconds\n",
        "ns = 1.0e-9 # Nanoseconds\n",
        "\n",
        "#We will work with the following qubit\n",
        "qubit = 0\n",
        "\n",
        "#Center the sweep in a qubit estimated frequency in Hz\n",
        "center_frequency_Hz = backend_defaults.qubit_freq_est[qubit] \n",
        "                                                    \n",
        "print(f\"Qubit {qubit} has an estimated frequency of {center_frequency_Hz / GHz} GHz.\")\n",
        "\n",
        "# scale factor to remove factors of 10 from the data \n",
        "scale_factor = 1e-7\n",
        "\n",
        "#Sweep 40 MHz around the estimated frequency\n",
        "frequency_span_Hz = 40 * MHz\n",
        "#With 1MHz steps\n",
        "frequency_step_Hz = 1 * MHz\n",
        "\n",
        "#Sweep 20 MHz above and 20 MHz below the estimated frequency\n",
        "frequency_min = center_frequency_Hz - frequency_span_Hz / 2\n",
        "frequency_max = center_frequency_Hz + frequency_span_Hz / 2\n",
        "\n",
        "#Array of the frequencies \n",
        "frequencies_GHz = np.arange(frequency_min / GHz, \n",
        "                            frequency_max / GHz, \n",
        "                            frequency_step_Hz / GHz)\n",
        "\n",
        "print(f\"The sweep will go from {frequency_min / GHz} GHz to {frequency_max / GHz} GHz \\\n",
        "in steps of {frequency_step_Hz / MHz} MHz.\")"
      ]
    },
    {
      "cell_type": "code",
      "execution_count": 29,
      "metadata": {
        "id": "MSNwaHd1-Utt"
      },
      "outputs": [],
      "source": [
        "#This function returns the closest multiple between two values\n",
        "def get_closest_multiple_of(value, base_number):\n",
        "    return int(value + base_number/2) - (int(value + base_number/2) % base_number)"
      ]
    },
    {
      "cell_type": "code",
      "execution_count": 30,
      "metadata": {
        "id": "0nPImtza4f8n"
      },
      "outputs": [],
      "source": [
        "#Lenght of the pulse: it has to be multiple of 16 (granularity)\n",
        "def get_closest_multiple_of_16(num):\n",
        "    return get_closest_multiple_of(num, granularity)"
      ]
    },
    {
      "cell_type": "code",
      "execution_count": 31,
      "metadata": {
        "id": "SA-RjvLT_rca"
      },
      "outputs": [],
      "source": [
        "#Lenght of the delay, converts s to dt\n",
        "def get_dt_from(sec):\n",
        "    return get_closest_multiple_of(sec/dt, lcm)"
      ]
    },
    {
      "cell_type": "code",
      "execution_count": 256,
      "metadata": {
        "id": "6E2GlSeM_2Om",
        "colab": {
          "base_uri": "https://localhost:8080/",
          "height": 143
        },
        "outputId": "98415ee3-31fe-45c1-fa48-92df400669d8"
      },
      "outputs": [
        {
          "output_type": "execute_result",
          "data": {
            "text/plain": [
              "<Figure size 936x118.8 with 1 Axes>"
            ],
            "image/png": "[encoded data removed]"
          },
          "metadata": {},
          "execution_count": 256
        }
      ],
      "source": [
        "from qiskit.circuit import Parameter      \n",
        "from qiskit.circuit import QuantumCircuit, Gate\n",
        "\n",
        "#Drive pulse parameters (us = microseconds)\n",
        "#Determines width of the Gaussian, but I need it for drive_duration\n",
        "drive_sigma_sec = 0.015 * us   \n",
        "\n",
        "#Truncating parameter\n",
        "\"\"\"Changed this parameter because I was getting three pulses \n",
        "in Measured Signal. With this new duration I get the envelope \n",
        "of the three pulses. This happens because the transitions of\n",
        "the qubit states (0/1) are not perfectly populated,\n",
        "so we get a mix of the other states.\"\"\" \n",
        "drive_duration_sec = drive_sigma_sec * 3.5\n",
        "\n",
        "# For qubit frequency estimate from 5.09021 GHz to 5.09035 GHz use:         \n",
        "# drive_duration_sec = drive_sigma_sec * 4\n",
        "\n",
        "\n",
        "#Pulse's amplitude                   \n",
        "drive_amp = 0.05\n",
        "\n",
        "#Base schedule\n",
        "freq = Parameter('freq')\n",
        "with pulse.build(backend=backend, default_alignment='sequential', name='Frequency sweep') as sweep_sched:\n",
        "    #seconds_to_samples(s) gets the number of samples that will elapse in seconds on the active backend.\n",
        "    drive_duration = get_closest_multiple_of_16(pulse.seconds_to_samples(drive_duration_sec))\n",
        "    \n",
        "    #sigma is not required for Constant pulse \n",
        "    #drive_sigma = pulse.seconds_to_samples(drive_sigma_sec)\n",
        "\n",
        "    #Returns the qubit's DriveChannel on the active backend\n",
        "    #Drive channels transmit signals to qubits which enact gate operations\n",
        "    drive_chan = pulse.drive_channel(qubit)\n",
        "    pulse.set_frequency(freq, drive_chan)\n",
        "    #Drive pulse samples\n",
        "    pulse.play(pulse.Constant(duration=drive_duration,\n",
        "                              amp=drive_amp,\n",
        "                              name='freq_sweep_excitation_pulse'), drive_chan)\n",
        "    \n",
        "#Plot the pulse \n",
        "sweep_sched.draw()"
      ]
    },
    {
      "cell_type": "code",
      "execution_count": 257,
      "metadata": {
        "id": "yKptR4nWAU5F"
      },
      "outputs": [],
      "source": [
        "#Gate(name, num_qubits, params) creates a new gate \n",
        "sweep_gate = Gate(\"sweep\", 1, [freq])\n",
        "\n",
        "#Create the quantum circuit, 1 qubit, 1 bit\n",
        "qc_sweep = QuantumCircuit(1, 1)\n",
        "\n",
        "#Add our new gate sweep_gate to the quantum circuit\n",
        "qc_sweep.append(sweep_gate, [0])\n",
        "qc_sweep.measure(0, 0)\n",
        "\n",
        "\"\"\"This command: add_calibration(gate, qubits, schedule, params=None) \n",
        "registers a low-level, custom pulse definition for the given gate\"\"\"\n",
        "qc_sweep.add_calibration(sweep_gate, (0,), sweep_sched, [freq])\n",
        "\n",
        "#Frequency settings for the sweep (MUST BE IN HZ)\n",
        "frequencies_Hz = frequencies_GHz*GHz #convert to Hz\n",
        "\n",
        "\"\"\"This command: assign_parameters(parameters, inplace=False)\n",
        "assigns parameters to new parameters or values\"\"\"\n",
        "exp_sweep_circs = [qc_sweep.assign_parameters({freq: f}, inplace=False) for f in frequencies_Hz]"
      ]
    },
    {
      "cell_type": "code",
      "execution_count": 258,
      "metadata": {
        "colab": {
          "base_uri": "https://localhost:8080/",
          "height": 210
        },
        "id": "dnG87GlDG_Eo",
        "outputId": "b6c37ad6-d3bc-4a63-886c-d92e8966182c"
      },
      "outputs": [
        {
          "output_type": "execute_result",
          "data": {
            "text/plain": [
              "<Figure size 936x237.6 with 1 Axes>"
            ],
            "image/png": "[encoded data removed]"
          },
          "metadata": {},
          "execution_count": 258
        }
      ],
      "source": [
        "from qiskit import schedule\n",
        "\n",
        "#schedule(circuits, backend) to schedule a circuit to a pulse Schedule, using the backend\n",
        "sweep_schedule = schedule(exp_sweep_circs[0], backend)\n",
        "#To show the schedule \n",
        "sweep_schedule.draw(backend=backend)"
      ]
    },
    {
      "cell_type": "code",
      "execution_count": 259,
      "metadata": {
        "id": "mFaT7Up-G-7p"
      },
      "outputs": [],
      "source": [
        "#Each schedule will be repeated num_shots_per_frequency times\n",
        "num_shots_per_frequency = 1024\n",
        "\n",
        "job = backend.run(exp_sweep_circs, \n",
        "                  meas_level=1, #kerneled data\n",
        "                  meas_return='avg', \n",
        "                  shots=num_shots_per_frequency)"
      ]
    },
    {
      "cell_type": "code",
      "execution_count": 260,
      "metadata": {
        "colab": {
          "base_uri": "https://localhost:8080/",
          "height": 34
        },
        "id": "5OnwtkKgG-w5",
        "outputId": "4eec9794-5b5f-42eb-9e56-009d04bc5bc8"
      },
      "outputs": [
        {
          "output_type": "stream",
          "name": "stdout",
          "text": [
            "Job Status: job has successfully run\n"
          ]
        }
      ],
      "source": [
        "from qiskit.tools.monitor import job_monitor\n",
        "\n",
        "#Monitor the job status\n",
        "job_monitor(job)"
      ]
    },
    {
      "cell_type": "code",
      "execution_count": 261,
      "metadata": {
        "id": "6q-9ivCXMOc9"
      },
      "outputs": [],
      "source": [
        "#Retrieve the results\n",
        "frequency_sweep_results = job.result(timeout=1200)"
      ]
    },
    {
      "cell_type": "code",
      "execution_count": 262,
      "metadata": {
        "colab": {
          "base_uri": "https://localhost:8080/",
          "height": 290
        },
        "id": "0V0MpoliMeV3",
        "outputId": "005daacf-ce26-41cd-ad21-837c9902415e"
      },
      "outputs": [
        {
          "output_type": "display_data",
          "data": {
            "text/plain": [
              "<Figure size 432x288 with 1 Axes>"
            ],
            "image/png": "[encoded data removed]"
          },
          "metadata": {
            "needs_background": "light"
          }
        }
      ],
      "source": [
        "#Plotting the results with matplotlib\n",
        "\n",
        "import matplotlib.pyplot as plt\n",
        "\n",
        "sweep_values = []\n",
        "for i in range(len(frequency_sweep_results.results)):\n",
        "    # Get the results from the ith experiment\n",
        "    res = frequency_sweep_results.get_memory(i)*scale_factor\n",
        "    # Get the results for `qubit` from this experiment\n",
        "    sweep_values.append(res[qubit])\n",
        "\n",
        "#Plot frequencies vs. real part of sweep values\n",
        "plt.scatter(frequencies_GHz, np.real(sweep_values), color='black') \n",
        "# plt.xlim([min(frequencies_GHz), max(frequencies_GHz)])\n",
        "plt.xlabel(\"Frequency [GHz]\")\n",
        "plt.ylabel(\"Measured signal [a.u.]\")\n",
        "plt.show()"
      ]
    },
    {
      "cell_type": "code",
      "execution_count": 263,
      "metadata": {
        "id": "TcBXexcDMeOH"
      },
      "outputs": [],
      "source": [
        "#Using scipy for the curve fitting\n",
        "\n",
        "from scipy.optimize import curve_fit\n",
        "\n",
        "def fit_function(x_values, y_values, function, init_params):\n",
        "    fitparams, conv = curve_fit(function, x_values, y_values, init_params)\n",
        "    y_fit = function(x_values, *fitparams)\n",
        "    \n",
        "    return fitparams, y_fit"
      ]
    },
    {
      "cell_type": "code",
      "execution_count": 346,
      "metadata": {
        "id": "gbPRnc7UMd7w",
        "colab": {
          "base_uri": "https://localhost:8080/",
          "height": 290
        },
        "outputId": "674db23f-9a56-423a-b959-5255bc60b907"
      },
      "outputs": [
        {
          "output_type": "display_data",
          "data": {
            "text/plain": [
              "<Figure size 432x288 with 1 Axes>"
            ],
            "image/png": "[encoded data removed]"
          },
          "metadata": {
            "needs_background": "light"
          }
        }
      ],
      "source": [
        "#Fitting the curve. We use a Gaussian function for the fit\n",
        "\n",
        "\"\"\"We need to assign the correct initial parameters for our data\n",
        "A is related to the height of the curve,\n",
        "B is related to the width of the Gaussian,\n",
        "C is the cut with the Y axis and\n",
        "q_freq is the estimated peak frequency of the curve.\"\"\"\n",
        "\n",
        "\n",
        "fit_params, y_fit = fit_function(frequencies_GHz,\n",
        "                                np.real(sweep_values), \n",
        "                                lambda x, A, q_freq, B, C: A*np.exp(-(x - q_freq) ** 2 / (2*B**2)) + C,\n",
        "                                [1.75e8, 5.090, 0.02, 0] # initial parameters for curve_fit\n",
        "                               )\n",
        "\n",
        "\n",
        "#Plotting the data\n",
        "plt.scatter(frequencies_GHz, np.real(sweep_values), color='black')\n",
        "#and plotting the fit\n",
        "plt.plot(frequencies_GHz, y_fit, color='red')\n",
        "plt.xlim([min(frequencies_GHz), max(frequencies_GHz)])\n",
        "\n",
        "plt.xlabel(\"Frequency [GHz]\")\n",
        "plt.ylabel(\"Measured Signal [a.u.]\")\n",
        "plt.show()"
      ]
    },
    {
      "cell_type": "code",
      "execution_count": 347,
      "metadata": {
        "colab": {
          "base_uri": "https://localhost:8080/"
        },
        "id": "YijkCb2ZPdi3",
        "outputId": "6a4a937d-fece-4c53-9353-8934596c22ec"
      },
      "outputs": [
        {
          "output_type": "stream",
          "name": "stdout",
          "text": [
            "We've updated our qubit frequency estimate from 5.09021 GHz to 5.09033 GHz.\n"
          ]
        }
      ],
      "source": [
        "A, rough_qubit_frequency, B, C = fit_params\n",
        "rough_qubit_frequency = rough_qubit_frequency*GHz # make sure qubit freq is in Hz\n",
        "print(f\"We've updated our qubit frequency estimate from \"\n",
        "      f\"{round(backend_defaults.qubit_freq_est[qubit] / GHz, 5)} GHz to {round(rough_qubit_frequency/GHz, 5)} GHz.\")"
      ]
    },
    {
      "cell_type": "code",
      "execution_count": 430,
      "metadata": {
        "id": "SsqMrEUHPdeU"
      },
      "outputs": [],
      "source": [
        "#Calibrating using a pi pulse\n",
        "#Pi pulses takes a qubit from |0> to |1> (X gate) \n",
        "\n",
        "#Rabi experiment parameters\n",
        "num_rabi_points = 50\n",
        "\n",
        "#Drive amplitude values to iterate over\n",
        "#50 amplitudes evenly spaced from 0 to 0.75 using linspace\n",
        "drive_amp_min = 0\n",
        "drive_amp_max = 0.55 #Changed this parameter\n",
        "drive_amps = np.linspace(drive_amp_min, drive_amp_max, num_rabi_points)"
      ]
    },
    {
      "cell_type": "code",
      "execution_count": 431,
      "metadata": {
        "id": "gJJaV54IPdb9"
      },
      "outputs": [],
      "source": [
        "# Build the Rabi experiments:\n",
        "\"\"\"A drive pulse at the qubit frequency, followed by a measurement,\n",
        "where we vary the drive amplitude each time\"\"\"\n",
        "\n",
        "#This is similar to the frequency sweep schedule\n",
        "drive_amp = Parameter('drive_amp')\n",
        "with pulse.build(backend=backend, default_alignment='sequential', name='Rabi Experiment') as rabi_sched:\n",
        "    drive_duration = get_closest_multiple_of_16(pulse.seconds_to_samples(drive_duration_sec))\n",
        "    # drive_sigma = pulse.seconds_to_samples(drive_sigma_sec)\n",
        "    drive_chan = pulse.drive_channel(qubit)\n",
        "    #With the rough_qubit_frequency found before\n",
        "    pulse.set_frequency(rough_qubit_frequency, drive_chan)\n",
        "    pulse.play(pulse.Constant(duration=drive_duration,\n",
        "                              amp=drive_amp,\n",
        "                              name='Rabi Pulse'), drive_chan)"
      ]
    },
    {
      "cell_type": "code",
      "execution_count": 432,
      "metadata": {
        "id": "Rvz_i5pOPdUM"
      },
      "outputs": [],
      "source": [
        "#New rabi gate\n",
        "rabi_gate = Gate(\"rabi\", 1, [drive_amp])\n",
        "\n",
        "#New quantum circuit for Rabi Experiment\n",
        "qc_rabi = QuantumCircuit(1, 1)\n",
        "\n",
        "#Add the rabi_gate we just defined\n",
        "qc_rabi.append(rabi_gate, [0])\n",
        "#Measure the QC \n",
        "qc_rabi.measure(0, 0)\n",
        "#Add calibration to the rabi_gate\n",
        "qc_rabi.add_calibration(rabi_gate, (0,), rabi_sched, [drive_amp])\n",
        "\n",
        "exp_rabi_circs = [qc_rabi.assign_parameters({drive_amp: a}, inplace=False) for a in drive_amps]"
      ]
    },
    {
      "cell_type": "code",
      "execution_count": 433,
      "metadata": {
        "colab": {
          "base_uri": "https://localhost:8080/",
          "height": 210
        },
        "id": "w2uxpSrOfRXi",
        "outputId": "e0c0b929-605b-4f66-dd81-f487bca29ef2"
      },
      "outputs": [
        {
          "output_type": "execute_result",
          "data": {
            "text/plain": [
              "<Figure size 936x237.6 with 1 Axes>"
            ],
            "image/png": "[encoded data removed]"
          },
          "metadata": {},
          "execution_count": 433
        }
      ],
      "source": [
        "#Create our schedule and draw it\n",
        "\n",
        "rabi_schedule = schedule(exp_rabi_circs[-1], backend)\n",
        "rabi_schedule.draw(backend=backend)"
      ]
    },
    {
      "cell_type": "code",
      "execution_count": 434,
      "metadata": {
        "colab": {
          "base_uri": "https://localhost:8080/",
          "height": 34
        },
        "id": "_qpnBvxqfRXi",
        "outputId": "58a52f54-8e54-48f6-f53f-2e379ac1ffe5"
      },
      "outputs": [
        {
          "output_type": "stream",
          "name": "stdout",
          "text": [
            "Job Status: job has successfully run\n"
          ]
        }
      ],
      "source": [
        "num_shots_per_point = 1024\n",
        "\n",
        "job = backend.run(exp_rabi_circs, \n",
        "                  meas_level=1, \n",
        "                  meas_return='avg', \n",
        "                  shots=num_shots_per_point)\n",
        "\n",
        "job_monitor(job)"
      ]
    },
    {
      "cell_type": "code",
      "execution_count": 435,
      "metadata": {
        "id": "_F-Z055ffRXj"
      },
      "outputs": [],
      "source": [
        "#Get the results\n",
        "rabi_results = job.result(timeout=120)"
      ]
    },
    {
      "cell_type": "code",
      "execution_count": 436,
      "metadata": {
        "id": "jZfHGRbLvMtC"
      },
      "outputs": [],
      "source": [
        "\"\"\"We need to extract the results and fit them to a sinusoidal curve\n",
        "The range of amplitudes we got will rotate (hopefully) the qubit several times \n",
        "around the Bloch sphere. We need to find the drive amplitude needed for the\n",
        "signal to oscillate from a maximum to a minimum (all |0> to all |1>)\n",
        "That's exactly what gives us the calibrated amplitud represented by the pi pulse\n",
        "\"\"\"\n",
        "#First we center the data around 0\n",
        "def baseline_remove(values):\n",
        "    return np.array(values) - np.mean(values)"
      ]
    },
    {
      "cell_type": "code",
      "execution_count": 437,
      "metadata": {
        "colab": {
          "base_uri": "https://localhost:8080/",
          "height": 290
        },
        "id": "4X56a1R0v8PM",
        "outputId": "df31e404-2e89-4075-8638-c84b9fd4010c"
      },
      "outputs": [
        {
          "output_type": "display_data",
          "data": {
            "text/plain": [
              "<Figure size 432x288 with 1 Axes>"
            ],
            "image/png": "[encoded data removed]"
          },
          "metadata": {
            "needs_background": "light"
          }
        }
      ],
      "source": [
        "#Empty array for Rabi values\n",
        "rabi_values = []\n",
        "\n",
        "#Remember we defined num_rabi_points initially at 50\n",
        "for i in range(num_rabi_points):\n",
        "    #Get the results for 'qubit' from the ith experiment\n",
        "    rabi_values.append(rabi_results.get_memory(i)[qubit] * scale_factor)\n",
        "\n",
        "#We get the real values from the centered rabi_values\n",
        "rabi_values = np.real(baseline_remove(rabi_values))\n",
        "\n",
        "#Plot the results\n",
        "plt.xlabel(\"Drive amp [a.u.]\")\n",
        "plt.ylabel(\"Measured signal [a.u.]\")\n",
        "#Plotting amplitudes vs Rabi values\n",
        "plt.scatter(drive_amps, rabi_values, color='black') \n",
        "plt.show()"
      ]
    },
    {
      "cell_type": "code",
      "execution_count": 474,
      "metadata": {
        "colab": {
          "base_uri": "https://localhost:8080/",
          "height": 295
        },
        "id": "aRFEJPwbv8NQ",
        "outputId": "db2f03d5-9808-4bad-a244-761191e5d519"
      },
      "outputs": [
        {
          "output_type": "display_data",
          "data": {
            "text/plain": [
              "<Figure size 432x288 with 1 Axes>"
            ],
            "image/png": "[encoded data removed]"
          },
          "metadata": {
            "needs_background": "light"
          }
        }
      ],
      "source": [
        "#Now we fit the curve, similarly to the frequencies fit\n",
        "\n",
        "#THIS PARAMETERS ARE FOR IBQM QUITO AND BELEM\n",
        "fit_params, y_fit = fit_function(drive_amps,\n",
        "                                 rabi_values, \n",
        "                                 lambda x, A, B, drive_period, phi: (A*np.cos(2*np.pi*x/drive_period - phi) + B),\n",
        "                                 [1.4e8, 0, 0.16, 0])\n",
        "\n",
        "plt.scatter(drive_amps, rabi_values, color='black')\n",
        "plt.plot(drive_amps, y_fit, color='red')\n",
        "\n",
        "drive_period = fit_params[2] #get period of rabi oscillation\n",
        "\n",
        "plt.xlabel(\"Drive amp [a.u.]\", fontsize=15)\n",
        "plt.ylabel(\"Measured signal [a.u.]\", fontsize=15)\n",
        "plt.show()"
      ]
    },
    {
      "cell_type": "code",
      "execution_count": 456,
      "metadata": {
        "colab": {
          "base_uri": "https://localhost:8080/"
        },
        "id": "OtipwqEKv8K2",
        "outputId": "f0f223a1-b077-4e63-ee1f-ffee67154ee4"
      },
      "outputs": [
        {
          "output_type": "stream",
          "name": "stdout",
          "text": [
            "Pi Amplitude = 0.0911660866618443\n"
          ]
        }
      ],
      "source": [
        "#Pi pulse's amplitude needed for the signal to oscillate from maximum to minimum\n",
        "pi_amp = abs(drive_period / 2)\n",
        "print(f\"Pi Amplitude = {pi_amp}\")"
      ]
    },
    {
      "cell_type": "code",
      "execution_count": 457,
      "metadata": {
        "id": "LGuHy3iu4gd-",
        "colab": {
          "base_uri": "https://localhost:8080/",
          "height": 143
        },
        "outputId": "5fe68cfd-ee3f-4fd2-f012-7271adaa083c"
      },
      "outputs": [
        {
          "output_type": "execute_result",
          "data": {
            "text/plain": [
              "<Figure size 936x118.8 with 1 Axes>"
            ],
            "image/png": "[encoded data removed]"
          },
          "metadata": {},
          "execution_count": 457
        }
      ],
      "source": [
        "#We can define our pi pulse now\n",
        "\n",
        "with pulse.build(backend) as pi_pulse:\n",
        "    drive_duration = get_closest_multiple_of_16(pulse.seconds_to_samples(drive_duration_sec))\n",
        "    # drive_sigma = pulse.seconds_to_samples(drive_sigma_sec)\n",
        "    drive_chan = pulse.drive_channel(qubit)\n",
        "    pulse.play(pulse.Constant(duration=drive_duration,\n",
        "                              amp=pi_amp,\n",
        "                              name='pi_pulse'), drive_chan)\n",
        "pi_pulse.draw()"
      ]
    },
    {
      "cell_type": "code",
      "execution_count": 458,
      "metadata": {
        "colab": {
          "base_uri": "https://localhost:8080/"
        },
        "id": "bMePSakQv8Ic",
        "outputId": "42beb19a-cc05-4bea-e4dd-67eaed4ac910"
      },
      "outputs": [
        {
          "output_type": "execute_result",
          "data": {
            "text/plain": [
              "<qiskit.circuit.instructionset.InstructionSet at 0x7f33b1cf7ed0>"
            ]
          },
          "metadata": {},
          "execution_count": 458
        }
      ],
      "source": [
        "#Now we create a ground state to try our pi pulse\n",
        "qc_gnd = QuantumCircuit(1, 1)\n",
        "qc_gnd.measure(0, 0)"
      ]
    },
    {
      "cell_type": "code",
      "execution_count": 459,
      "metadata": {
        "colab": {
          "base_uri": "https://localhost:8080/",
          "height": 142
        },
        "id": "8inNTAUOv8DV",
        "outputId": "ffda7a9c-2839-41db-e64e-2d456a54cc94"
      },
      "outputs": [
        {
          "output_type": "execute_result",
          "data": {
            "text/plain": [
              "<Figure size 936x118.8 with 1 Axes>"
            ],
            "image/png": "[encoded data removed]"
          },
          "metadata": {},
          "execution_count": 459
        }
      ],
      "source": [
        "#And its ground schedule\n",
        "gnd_schedule = schedule(qc_gnd, backend)\n",
        "gnd_schedule.draw(backend=backend)"
      ]
    },
    {
      "cell_type": "code",
      "execution_count": 460,
      "metadata": {
        "id": "th2bgZzK4KP4"
      },
      "outputs": [],
      "source": [
        "#We create the excited state \n",
        "with pulse.build(backend=backend, default_alignment='sequential', name='excited state') as exc_schedule:\n",
        "    drive_chan = pulse.drive_channel(qubit)\n",
        "    pulse.set_frequency(rough_qubit_frequency, drive_chan)\n",
        "    pulse.call(pi_pulse)"
      ]
    },
    {
      "cell_type": "code",
      "execution_count": 461,
      "metadata": {
        "id": "7bbWQ_Ro4SgC"
      },
      "outputs": [],
      "source": [
        "#And another QC for the excited state\n",
        "qc_exc = QuantumCircuit(1, 1)\n",
        "#Apply X gate to qubit 0 \n",
        "qc_exc.x(0)\n",
        "#And measure it\n",
        "qc_exc.measure(0, 0)\n",
        "\n",
        "#Then we add the calibration from the excited state's sched\n",
        "qc_exc.add_calibration(\"x\", (0,), exc_schedule, [])"
      ]
    },
    {
      "cell_type": "code",
      "execution_count": 462,
      "metadata": {
        "colab": {
          "base_uri": "https://localhost:8080/",
          "height": 210
        },
        "id": "odOjIgzV5DfZ",
        "outputId": "d8a5ab2d-23ad-47c1-b09c-e64bb116a76c"
      },
      "outputs": [
        {
          "output_type": "execute_result",
          "data": {
            "text/plain": [
              "<Figure size 936x237.6 with 1 Axes>"
            ],
            "image/png": "[encoded data removed]"
          },
          "metadata": {},
          "execution_count": 462
        }
      ],
      "source": [
        "#Now execute the exc state's schedule\n",
        "exec_schedule = schedule(qc_exc, backend)\n",
        "exec_schedule.draw(backend=backend)"
      ]
    },
    {
      "cell_type": "code",
      "execution_count": 463,
      "metadata": {
        "id": "1mEPGYph5Dc_"
      },
      "outputs": [],
      "source": [
        "#Preparation schedules for the ground and excited states\n",
        "num_shots = 1024\n",
        "\n",
        "job = backend.run([qc_gnd, qc_exc], \n",
        "                  #Choosing meas_level 1 for kerneled data\n",
        "                  meas_level=1, \n",
        "                  meas_return='single', \n",
        "                  shots=num_shots)"
      ]
    },
    {
      "cell_type": "code",
      "execution_count": 464,
      "metadata": {
        "colab": {
          "base_uri": "https://localhost:8080/",
          "height": 34
        },
        "id": "eP4X4rwcD0Ar",
        "outputId": "4cce360e-3b05-4a23-b2a4-ee962250099a"
      },
      "outputs": [
        {
          "output_type": "stream",
          "name": "stdout",
          "text": [
            "Job Status: job has successfully run\n"
          ]
        }
      ],
      "source": [
        "job_monitor(job)"
      ]
    },
    {
      "cell_type": "code",
      "execution_count": 465,
      "metadata": {
        "id": "uUIQ3uMP5Dau"
      },
      "outputs": [],
      "source": [
        "gnd_exc_results = job.result(timeout=120)"
      ]
    },
    {
      "cell_type": "code",
      "execution_count": 467,
      "metadata": {
        "colab": {
          "base_uri": "https://localhost:8080/",
          "height": 302
        },
        "id": "lK7dXGr75DNN",
        "outputId": "e23d2d1c-acd4-4a19-bcd9-f335b8c1a763"
      },
      "outputs": [
        {
          "output_type": "display_data",
          "data": {
            "text/plain": [
              "<Figure size 432x288 with 1 Axes>"
            ],
            "image/png": "[encoded data removed]"
          },
          "metadata": {
            "needs_background": "light"
          }
        }
      ],
      "source": [
        "#Getting the ground and excited state's results\n",
        "gnd_results = gnd_exc_results.get_memory(0)[:, qubit]*scale_factor\n",
        "exc_results = gnd_exc_results.get_memory(1)[:, qubit]*scale_factor\n",
        "\n",
        "#Plotting results\n",
        "plt.figure()\n",
        "\n",
        "#Ground state in blue\n",
        "plt.scatter(np.real(gnd_results), np.imag(gnd_results), \n",
        "                s=5, cmap='viridis', c='blue', alpha=0.5, label='Gnd state')\n",
        "#Excited state in red\n",
        "plt.scatter(np.real(exc_results), np.imag(exc_results), \n",
        "                s=5, cmap='viridis', c='red', alpha=0.5, label='Exc state')\n",
        "\n",
        "plt.axis('square')\n",
        "\n",
        "#Plot a large black dot for the average result of the 0 and 1 states\n",
        "#Mean of real and imaginary parts of results\n",
        "mean_gnd = np.mean(gnd_results)\n",
        "mean_exc = np.mean(exc_results)\n",
        "plt.scatter(np.real(mean_gnd), np.imag(mean_gnd), \n",
        "            s=100, cmap='viridis', c='black',alpha=1.0, label='Mean')\n",
        "plt.scatter(np.real(mean_exc), np.imag(mean_exc), \n",
        "            s=100, cmap='viridis', c='black',alpha=1.0)\n",
        "\n",
        "plt.ylabel('Im [a.u.]', fontsize=15)\n",
        "plt.xlabel('Q (Real) [a.u.]', fontsize=15)\n",
        "plt.title(\"0-1 discrimination\", fontsize=15)\n",
        "plt.legend()\n",
        "\n",
        "plt.show()"
      ]
    },
    {
      "cell_type": "code",
      "execution_count": 468,
      "metadata": {
        "id": "dq8AGQLg532n"
      },
      "outputs": [],
      "source": [
        "\"\"\"The mean value of the excited state is not in the center of the big red circle,\n",
        "this is due to the population of excited states (red dots) not being\n",
        "perfectly together, but several red dots are in the blue area.\"\"\"\n",
        "\n",
        "\"\"\"Setting up a classifier function:\n",
        "returns 0 if a given point is closer to the mean of ground state results\n",
        "and returns 1 if the point is closer to the avg exc state results\"\"\"\n",
        "\n",
        "import math\n",
        "\n",
        "#This functions classifies the given state as |0> or |1>.\n",
        "def classify(point: complex):\n",
        "    def distance(a, b):\n",
        "        return math.sqrt((np.real(a) - np.real(b))**2 + (np.imag(a) - np.imag(b))**2)\n",
        "    return int(distance(point, mean_exc) < distance(point, mean_gnd))\n"
      ]
    },
    {
      "cell_type": "code",
      "execution_count": 469,
      "metadata": {
        "id": "csSiOWNW530U"
      },
      "outputs": [],
      "source": [
        "#T1 time: time it takes for a qubit to decay from exc_state to gnd_state\n",
        "\"\"\"To measure T1 we use the pi pulse we've calibrated, then a measure pulse.\n",
        "But first we have to insert a delay\"\"\"\n",
        "\n",
        "#T1 experiment parameters\n",
        "time_max_sec = 450 * us\n",
        "time_step_sec = 6.5 * us\n",
        "delay_times_sec = np.arange(1 * us, time_max_sec, time_step_sec)"
      ]
    },
    {
      "cell_type": "code",
      "execution_count": 470,
      "metadata": {
        "id": "_ORcm3AI53yC"
      },
      "outputs": [],
      "source": [
        "#We define the delay\n",
        "delay = Parameter('delay')\n",
        "#Create another quantum circuit\n",
        "qc_t1 = QuantumCircuit(1, 1)\n",
        "\n",
        "#X Gate \n",
        "qc_t1.x(0)\n",
        "#Delay\n",
        "qc_t1.delay(delay, 0)\n",
        "#Measurement\n",
        "qc_t1.measure(0, 0)\n",
        "#Calibration on X gate with our pi pulse\n",
        "qc_t1.add_calibration(\"x\", (0,), pi_pulse)\n",
        "\n",
        "exp_t1_circs = [qc_t1.assign_parameters({delay: get_dt_from(d)}, inplace=False) for d in delay_times_sec]"
      ]
    },
    {
      "cell_type": "code",
      "execution_count": 471,
      "metadata": {
        "colab": {
          "base_uri": "https://localhost:8080/",
          "height": 208
        },
        "id": "H5bTcLpLmB6G",
        "outputId": "b369d83d-7d31-4513-ccf2-03d97bdbed46"
      },
      "outputs": [
        {
          "output_type": "execute_result",
          "data": {
            "text/plain": [
              "<Figure size 936x237.6 with 1 Axes>"
            ],
            "image/png": "[encoded data removed]"
          },
          "metadata": {},
          "execution_count": 471
        }
      ],
      "source": [
        "#Schedule for T1\n",
        "sched_idx = -1\n",
        "t1_schedule = schedule(exp_t1_circs[sched_idx], backend)\n",
        "t1_schedule.draw(backend=backend)"
      ]
    },
    {
      "cell_type": "code",
      "execution_count": 472,
      "metadata": {
        "id": "JfBn2XnomTN-"
      },
      "outputs": [],
      "source": [
        "#Execution settings\n",
        "num_shots = 256\n",
        "\n",
        "job = backend.run(exp_t1_circs, \n",
        "                  meas_level=1, \n",
        "                  meas_return='single', \n",
        "                  shots=num_shots)"
      ]
    },
    {
      "cell_type": "code",
      "execution_count": 473,
      "metadata": {
        "colab": {
          "base_uri": "https://localhost:8080/",
          "height": 34
        },
        "id": "xOMeSxZumTMJ",
        "outputId": "92b94322-9e12-4ea8-d5ce-4ec5420a19d2"
      },
      "outputs": [
        {
          "output_type": "stream",
          "name": "stdout",
          "text": [
            "Job Status: job has successfully run\n"
          ]
        }
      ],
      "source": [
        "job_monitor(job)"
      ]
    },
    {
      "cell_type": "code",
      "execution_count": 475,
      "metadata": {
        "id": "EkiV8Ww5mTJk"
      },
      "outputs": [],
      "source": [
        "t1_results = job.result(timeout=120)"
      ]
    },
    {
      "cell_type": "code",
      "execution_count": 476,
      "metadata": {
        "colab": {
          "base_uri": "https://localhost:8080/",
          "height": 308
        },
        "id": "fsGmBHAKmIU1",
        "outputId": "7e1b294f-5fb6-4f6a-e32c-02b748442251"
      },
      "outputs": [
        {
          "output_type": "display_data",
          "data": {
            "text/plain": [
              "<Figure size 432x288 with 1 Axes>"
            ],
            "image/png": "[encoded data removed]"
          },
          "metadata": {
            "needs_background": "light"
          }
        }
      ],
      "source": [
        "#Getting the results to plot\n",
        "\n",
        "t1_values = []\n",
        "\n",
        "for i in range(len(delay_times_sec)):\n",
        "    iq_data = t1_results.get_memory(i)[:,qubit] * scale_factor\n",
        "    #sum() returns the sum of all items.\n",
        "    #map() returns a map object of the result after applying a given\n",
        "    #function (sum) to each item of a given iterable.\n",
        "    t1_values.append(sum(map(classify, iq_data)) / num_shots)\n",
        "\n",
        "plt.scatter(delay_times_sec/us, t1_values, color='black') \n",
        "plt.title(\"$T_1$ Experiment\", fontsize=15)\n",
        "plt.xlabel('Delay before measurement [$\\mu$s]', fontsize=15)\n",
        "plt.ylabel('Signal [a.u.]', fontsize=15)\n",
        "plt.show()"
      ]
    },
    {
      "cell_type": "code",
      "execution_count": 477,
      "metadata": {
        "colab": {
          "base_uri": "https://localhost:8080/",
          "height": 308
        },
        "id": "ZlNmN1dlm0Ai",
        "outputId": "384bb58d-590a-4fbb-a31b-b697398498ed"
      },
      "outputs": [
        {
          "output_type": "display_data",
          "data": {
            "text/plain": [
              "<Figure size 432x288 with 1 Axes>"
            ],
            "image/png": "[encoded data removed]"
          },
          "metadata": {
            "needs_background": "light"
          }
        }
      ],
      "source": [
        "#Fitting data with an exponential curve\n",
        "fit_params, y_fit = fit_function(delay_times_sec/us, t1_values, \n",
        "            lambda x, A, C, T1: (A * np.exp(-x / T1) + C),\n",
        "            [-3, 3, 100]\n",
        "            )\n",
        "\n",
        "_, _, T1 = fit_params\n",
        "\n",
        "plt.scatter(delay_times_sec/us, t1_values, color='black')\n",
        "plt.plot(delay_times_sec/us, y_fit, color='red', label=f\"T1 = {T1:.2f} us\")\n",
        "plt.xlim(0, np.max(delay_times_sec/us))\n",
        "plt.title(\"$T_1$ Experiment\", fontsize=15)\n",
        "plt.xlabel('Delay before measurement [$\\mu$s]', fontsize=15)\n",
        "plt.ylabel('Signal [a.u.]', fontsize=15)\n",
        "plt.legend()\n",
        "plt.show()"
      ]
    },
    {
      "cell_type": "code",
      "execution_count": 478,
      "metadata": {
        "id": "OBCyK8GEm4zw"
      },
      "outputs": [],
      "source": [
        "#Measure qubit frequency (precisely) with Ramsey Experiment\n",
        "#Apply a pi/2 pulse, wait some time, and then anothe pi/2 pulse.\n",
        "\n",
        "#Ramsey experiment parameters\n",
        "time_max_sec = 1.8 * us\n",
        "time_step_sec = 0.025 * us\n",
        "delay_times_sec = np.arange(0.1 * us, time_max_sec, time_step_sec)\n",
        "\n",
        "#Drive parameters\n",
        "#Drive amplitude for pi/2 is simply half the amplitude of the pi pulse\n",
        "drive_amp = pi_amp / 2\n",
        "\n",
        "#Build the x_90 pulse, which is an X rotation of 90 degrees, a pi/2 rotation\n",
        "with pulse.build(backend) as x90_pulse:\n",
        "    drive_duration = get_closest_multiple_of_16(pulse.seconds_to_samples(drive_duration_sec))\n",
        "    drive_sigma = pulse.seconds_to_samples(drive_sigma_sec)\n",
        "    drive_chan = pulse.drive_channel(qubit)\n",
        "    pulse.play(pulse.Constant(duration=drive_duration,\n",
        "                              amp=drive_amp,\n",
        "                              name='x90_pulse'), drive_chan)"
      ]
    },
    {
      "cell_type": "code",
      "execution_count": 479,
      "metadata": {
        "id": "rL27gKfdm4oK"
      },
      "outputs": [],
      "source": [
        "#Now we have to drive the pulses off-resonance an amount detuning_MHz\n",
        "detuning_MHz = 2 \n",
        "ramsey_frequency = round(rough_qubit_frequency + detuning_MHz * MHz, 6) #Ramsey freq in Hz"
      ]
    },
    {
      "cell_type": "code",
      "execution_count": 480,
      "metadata": {
        "id": "Y_SBKvitm4kt"
      },
      "outputs": [],
      "source": [
        "#Pulse for Ramsey experiment \n",
        "delay = Parameter('delay')\n",
        "with pulse.build(backend=backend, default_alignment='sequential', name=\"Ramsey delay Experiment\") as ramsey_schedule:\n",
        "    drive_chan = pulse.drive_channel(qubit)\n",
        "    pulse.set_frequency(ramsey_frequency, drive_chan)\n",
        "    #X pulse, Delay, X pulse\n",
        "    pulse.call(x90_pulse)\n",
        "    pulse.delay(delay, drive_chan)\n",
        "    pulse.call(x90_pulse)"
      ]
    },
    {
      "cell_type": "code",
      "execution_count": 481,
      "metadata": {
        "id": "Ts9qIuY1m4iK"
      },
      "outputs": [],
      "source": [
        "#Ramsey gate\n",
        "ramsey_gate = Gate(\"ramsey\", 1, [delay])\n",
        "\n",
        "#Another QC for Ramsey experiment\n",
        "qc_ramsey = QuantumCircuit(1, 1)\n",
        "\n",
        "#Adding the gate to the circuit\n",
        "qc_ramsey.append(ramsey_gate, [0])\n",
        "qc_ramsey.measure(0, 0)\n",
        "qc_ramsey.add_calibration(ramsey_gate, (0,), ramsey_schedule, [delay])\n",
        "\n",
        "exp_ramsey_circs = [qc_ramsey.assign_parameters({delay: get_dt_from(d)}, inplace=False) for d in delay_times_sec]"
      ]
    },
    {
      "cell_type": "code",
      "execution_count": 482,
      "metadata": {
        "colab": {
          "base_uri": "https://localhost:8080/",
          "height": 210
        },
        "id": "X-UO1D8_p3Li",
        "outputId": "614dc32b-aee1-4359-f0f6-7e332dfa732f"
      },
      "outputs": [
        {
          "output_type": "execute_result",
          "data": {
            "text/plain": [
              "<Figure size 936x237.6 with 1 Axes>"
            ],
            "image/png": "[encoded data removed]"
          },
          "metadata": {},
          "execution_count": 482
        }
      ],
      "source": [
        "ramsey_schedule = schedule(exp_ramsey_circs[2], backend)\n",
        "ramsey_schedule.draw(backend=backend)"
      ]
    },
    {
      "cell_type": "code",
      "execution_count": 483,
      "metadata": {
        "id": "YpcNIqI7qAiu"
      },
      "outputs": [],
      "source": [
        "#Execution settings for Ramsey experimet\n",
        "num_shots = 256\n",
        "\n",
        "job = backend.run(exp_ramsey_circs, \n",
        "                  meas_level=1, \n",
        "                  meas_return='single', \n",
        "                  shots=num_shots)"
      ]
    },
    {
      "cell_type": "code",
      "execution_count": 484,
      "metadata": {
        "colab": {
          "base_uri": "https://localhost:8080/",
          "height": 34
        },
        "id": "rZvXnYJfqJbj",
        "outputId": "a14fe457-db35-4081-a607-6ff528aa2c33"
      },
      "outputs": [
        {
          "output_type": "stream",
          "name": "stdout",
          "text": [
            "Job Status: job has successfully run\n"
          ]
        }
      ],
      "source": [
        "job_monitor(job)"
      ]
    },
    {
      "cell_type": "code",
      "execution_count": 485,
      "metadata": {
        "id": "vuE8pqThqK9C"
      },
      "outputs": [],
      "source": [
        "ramsey_results = job.result(timeout=120)"
      ]
    },
    {
      "cell_type": "code",
      "execution_count": 486,
      "metadata": {
        "colab": {
          "base_uri": "https://localhost:8080/",
          "height": 306
        },
        "id": "9WeHvopUqMvk",
        "outputId": "9ccd9394-5c4c-4724-a52b-6efc3b47952a"
      },
      "outputs": [
        {
          "output_type": "display_data",
          "data": {
            "text/plain": [
              "<Figure size 432x288 with 1 Axes>"
            ],
            "image/png": "[encoded data removed]"
          },
          "metadata": {
            "needs_background": "light"
          }
        }
      ],
      "source": [
        "#Array for the results\n",
        "ramsey_values = []\n",
        "\n",
        "for i in range(len(delay_times_sec)):\n",
        "    iq_data = ramsey_results.get_memory(i)[:,qubit] * scale_factor\n",
        "    ramsey_values.append(sum(map(classify, iq_data)) / num_shots)\n",
        "    \n",
        "#Plotting the results\n",
        "plt.scatter(delay_times_sec/us, np.real(ramsey_values), color='black')\n",
        "plt.xlim(0, np.max(delay_times_sec/us))\n",
        "plt.title(\"Ramsey Experiment\", fontsize=15)\n",
        "plt.xlabel('Delay between X90 pulses [$\\mu$s]', fontsize=15)\n",
        "plt.ylabel('Measured Signal [a.u.]', fontsize=15)\n",
        "plt.show()"
      ]
    },
    {
      "cell_type": "code",
      "execution_count": 487,
      "metadata": {
        "colab": {
          "base_uri": "https://localhost:8080/",
          "height": 306
        },
        "id": "z_VIT_65qMsk",
        "outputId": "0f83b086-3513-444b-ec26-adbb4480369c"
      },
      "outputs": [
        {
          "output_type": "display_data",
          "data": {
            "text/plain": [
              "<Figure size 432x288 with 1 Axes>"
            ],
            "image/png": "[encoded data removed]"
          },
          "metadata": {
            "needs_background": "light"
          }
        }
      ],
      "source": [
        "#Fitting data to a sinusoid\n",
        "\n",
        "fit_params, y_fit = fit_function(delay_times_sec/us, np.real(ramsey_values),\n",
        "                                 lambda x, A, del_f_MHz, C, B: (\n",
        "                                          A * np.cos(2*np.pi*del_f_MHz*x - C) + B\n",
        "                                         ),\n",
        "                                 [5, 1.5, 0, 0.25] \n",
        "                                )\n",
        "\n",
        "# Off-resonance component\n",
        "_, del_f_MHz, _, _, = fit_params # freq is MHz since times in us\n",
        "\n",
        "plt.scatter(delay_times_sec/us, np.real(ramsey_values), color='black')\n",
        "plt.plot(delay_times_sec/us, y_fit, color='red', label=f\"df = {del_f_MHz:.2f} MHz\")\n",
        "plt.xlim(0, np.max(delay_times_sec/us))\n",
        "plt.xlabel('Delay between X90 pulses [$\\mu$s]', fontsize=15)\n",
        "plt.ylabel('Measured Signal [a.u.]', fontsize=15)\n",
        "plt.title('Ramsey Experiment', fontsize=15)\n",
        "plt.legend()\n",
        "plt.show()"
      ]
    },
    {
      "cell_type": "code",
      "execution_count": 488,
      "metadata": {
        "colab": {
          "base_uri": "https://localhost:8080/"
        },
        "id": "N-upfJ3TqMpE",
        "outputId": "c11d5317-3c76-4dee-d28c-d8d505cd1e0e"
      },
      "outputs": [
        {
          "output_type": "stream",
          "name": "stdout",
          "text": [
            "Our updated qubit frequency is now 5.090213 GHz. It used to be 5.090331 GHz\n"
          ]
        }
      ],
      "source": [
        "precise_qubit_freq = rough_qubit_frequency + (detuning_MHz - del_f_MHz) * MHz # get new freq in Hz\n",
        "print(f\"Our updated qubit frequency is now {round(precise_qubit_freq/GHz, 6)} GHz. \"\n",
        "      f\"It used to be {round(rough_qubit_frequency / GHz, 6)} GHz\")"
      ]
    },
    {
      "cell_type": "code",
      "execution_count": 489,
      "metadata": {
        "id": "vXkBc7ElqMkh"
      },
      "outputs": [],
      "source": [
        "#Measuring coherence time (T2) with Hahn Echoes experiment\n",
        "#It's the same as Ramsey's experiment, with a pi pulse between the pi/2\n",
        "\n",
        "#T2 experiment parameters\n",
        "tau_max_sec = 200 * us\n",
        "tau_step_sec = 4 * us\n",
        "delay_times_sec = np.arange(2 * us, tau_max_sec, tau_step_sec)"
      ]
    },
    {
      "cell_type": "code",
      "execution_count": 490,
      "metadata": {
        "id": "cyv9qZ0grElB"
      },
      "outputs": [],
      "source": [
        "#Define the delay and build the pulse for T2\n",
        "delay = Parameter('delay')\n",
        "with pulse.build(backend=backend, default_alignment='sequential', name=\"T2 delay Experiment\") as t2_schedule:\n",
        "    drive_chan = pulse.drive_channel(qubit)\n",
        "    pulse.set_frequency(precise_qubit_freq, drive_chan)\n",
        "    #X pulse, delay, pi pulse, delay, X pulse\n",
        "    pulse.call(x90_pulse)\n",
        "    pulse.delay(delay, drive_chan)\n",
        "    pulse.call(pi_pulse)\n",
        "    pulse.delay(delay, drive_chan)\n",
        "    pulse.call(x90_pulse)"
      ]
    },
    {
      "cell_type": "code",
      "execution_count": 491,
      "metadata": {
        "id": "WtbA-5DIrEhW"
      },
      "outputs": [],
      "source": [
        "#Define T2 gate\n",
        "t2_gate = Gate(\"t2\", 1, [delay])\n",
        "\n",
        "#QC for T2\n",
        "qc_t2 = QuantumCircuit(1, 1)\n",
        "\n",
        "#Add T2 gate\n",
        "qc_t2.append(t2_gate, [0])\n",
        "qc_t2.measure(0, 0)\n",
        "#Add calibration with delay\n",
        "qc_t2.add_calibration(t2_gate, (0,), t2_schedule, [delay])\n",
        "\n",
        "exp_t2_circs = [qc_t2.assign_parameters({delay: get_dt_from(d)}, inplace=False) for d in delay_times_sec]"
      ]
    },
    {
      "cell_type": "code",
      "execution_count": 492,
      "metadata": {
        "colab": {
          "base_uri": "https://localhost:8080/",
          "height": 208
        },
        "id": "wIq6CqmcrEfT",
        "outputId": "82ae493a-bba8-4e61-b9e0-3cef8124bbb9"
      },
      "outputs": [
        {
          "output_type": "execute_result",
          "data": {
            "text/plain": [
              "<Figure size 936x237.6 with 1 Axes>"
            ],
            "image/png": "[encoded data removed]"
          },
          "metadata": {},
          "execution_count": 492
        }
      ],
      "source": [
        "#Schedule for T2 and show it\n",
        "t2_schedule = schedule(exp_t2_circs[-1], backend)\n",
        "t2_schedule.draw(backend=backend)"
      ]
    },
    {
      "cell_type": "code",
      "execution_count": 493,
      "metadata": {
        "id": "gN5OzguHrEc3"
      },
      "outputs": [],
      "source": [
        "#Execution settings\n",
        "num_shots_per_point = 512\n",
        "\n",
        "job = backend.run(exp_t2_circs,\n",
        "                  meas_level=1, #Kerneled data\n",
        "                  meas_return='single',\n",
        "                  shots=num_shots_per_point)"
      ]
    },
    {
      "cell_type": "code",
      "execution_count": 494,
      "metadata": {
        "colab": {
          "base_uri": "https://localhost:8080/",
          "height": 34
        },
        "id": "9lJ-jhNErEa7",
        "outputId": "d84fa4e7-e419-49d3-a099-50d5a9ab9926"
      },
      "outputs": [
        {
          "output_type": "stream",
          "name": "stdout",
          "text": [
            "Job Status: job has successfully run\n"
          ]
        }
      ],
      "source": [
        "job_monitor(job)"
      ]
    },
    {
      "cell_type": "code",
      "execution_count": 495,
      "metadata": {
        "id": "yyFbsiIxrNQe"
      },
      "outputs": [],
      "source": [
        "#Getting results\n",
        "t2_results = job.result(timeout=120)"
      ]
    },
    {
      "cell_type": "code",
      "execution_count": 496,
      "metadata": {
        "colab": {
          "base_uri": "https://localhost:8080/",
          "height": 306
        },
        "id": "FEHVcee3rNOc",
        "outputId": "eacd6e3d-a839-411d-a982-6b03b082b358"
      },
      "outputs": [
        {
          "output_type": "display_data",
          "data": {
            "text/plain": [
              "<Figure size 432x288 with 1 Axes>"
            ],
            "image/png": "[encoded data removed]"
          },
          "metadata": {
            "needs_background": "light"
          }
        }
      ],
      "source": [
        "#T2 empty array\n",
        "t2_values = []\n",
        "\n",
        "#Retrieving results and adding them classified to the array\n",
        "for i in range(len(delay_times_sec)):\n",
        "    iq_data = t2_results.get_memory(i)[:,qubit] * scale_factor\n",
        "    t2_values.append(sum(map(classify, iq_data)) / num_shots_per_point)\n",
        "\n",
        "#Plot ressults for Hanh Echo experiment\n",
        "plt.scatter(2*delay_times_sec/us, t2_values, color='black')\n",
        "plt.xlabel('Delay between X90 pulse and $\\pi$ pulse [$\\mu$s]', fontsize=15)\n",
        "plt.ylabel('Measured Signal [a.u.]', fontsize=15)\n",
        "plt.title('Hahn Echo Experiment', fontsize=15)\n",
        "plt.show()"
      ]
    },
    {
      "cell_type": "code",
      "execution_count": 497,
      "metadata": {
        "colab": {
          "base_uri": "https://localhost:8080/",
          "height": 306
        },
        "id": "AQ2NHyRWrQHw",
        "outputId": "d55a1f69-bb5f-4805-e03e-232be1eda4a6"
      },
      "outputs": [
        {
          "output_type": "display_data",
          "data": {
            "text/plain": [
              "<Figure size 432x288 with 1 Axes>"
            ],
            "image/png": "[encoded data removed]"
          },
          "metadata": {
            "needs_background": "light"
          }
        }
      ],
      "source": [
        "#Fitting data with an exponential function\n",
        "fit_params, y_fit = fit_function(2*delay_times_sec/us, t2_values,\n",
        "             lambda x, A, B, T2: (A * np.exp(-x / T2) + B),\n",
        "             [-3, 0, 100])\n",
        "\n",
        "_, _, T2 = fit_params\n",
        "\n",
        "#Plotting results and fit curve\n",
        "plt.scatter(2*delay_times_sec/us, t2_values, color='black')\n",
        "plt.plot(2*delay_times_sec/us, y_fit, color='red', label=f\"T2 = {T2:.2f} us\")\n",
        "plt.xlim(0, np.max(2*delay_times_sec/us))\n",
        "plt.xlabel('Delay between X90 pulse and $\\pi$ pulse [$\\mu$s]', fontsize=15)\n",
        "plt.ylabel('Measured Signal [a.u.]', fontsize=15)\n",
        "plt.title('Hahn Echo Experiment', fontsize=15)\n",
        "plt.legend()\n",
        "plt.show()"
      ]
    },
    {
      "cell_type": "code",
      "execution_count": 498,
      "metadata": {
        "colab": {
          "base_uri": "https://localhost:8080/"
        },
        "id": "MwGn6fq8rQFR",
        "outputId": "74167359-b334-470a-cfd3-b1505c135a34"
      },
      "outputs": [
        {
          "output_type": "stream",
          "name": "stdout",
          "text": [
            "Total time ranges from 2.0 to 354.0 us\n"
          ]
        }
      ],
      "source": [
        "#Dynamical decoupling technique\n",
        "#Used to extract longer coherence times from qubits\n",
        "\n",
        "#Experiment parameters\n",
        "tau_sec_min = 1 * us\n",
        "tau_sec_max = 180 * us\n",
        "tau_step_sec = 4 * us\n",
        "taus_sec = np.arange(tau_sec_min, tau_sec_max, tau_step_sec)\n",
        "\n",
        "num_sequence = 1 \n",
        "print(f\"Total time ranges from {2.*num_sequence*taus_sec[0] / us} to {2.*num_sequence*taus_sec[-1] / us} us\")"
      ]
    },
    {
      "cell_type": "code",
      "execution_count": 499,
      "metadata": {
        "id": "FZKnf_HxrQC4"
      },
      "outputs": [],
      "source": [
        "#This schedule is different from the others...\n",
        "delay = Parameter('delay')\n",
        "with pulse.build(backend=backend, default_alignment='sequential', name=\"T2DD delay Experiment\") as T2DD_schedule:\n",
        "    drive_chan = pulse.drive_channel(qubit)\n",
        "    pulse.set_frequency(precise_qubit_freq, drive_chan)\n",
        "    #X Pulse and Delay\n",
        "    pulse.call(x90_pulse)\n",
        "    pulse.delay(delay/2, drive_chan)\n",
        "    for loop_counts in range(num_sequence):\n",
        "        pulse.call(pi_pulse)\n",
        "        pulse.delay(delay, drive_chan)\n",
        "        with pulse.phase_offset(np.pi/2, pulse.drive_channel(qubit)):\n",
        "            pulse.call(pi_pulse)\n",
        "        pulse.delay(delay, drive_chan)\n",
        "        pulse.call(pi_pulse)\n",
        "        pulse.delay(delay, drive_chan)\n",
        "        with pulse.phase_offset(np.pi/2, pulse.drive_channel(qubit)):\n",
        "            pulse.call(pi_pulse)\n",
        "        if loop_counts != num_sequence-1:\n",
        "            pulse.delay(delay, drive_chan)\n",
        "    pulse.delay(delay/2, drive_chan)\n",
        "    pulse.call(x90_pulse)"
      ]
    },
    {
      "cell_type": "code",
      "execution_count": 500,
      "metadata": {
        "id": "FXse_r48rNMV"
      },
      "outputs": [],
      "source": [
        "#Create new gate for T2 Dynamical Decouling \n",
        "T2DD_gate = Gate(\"T2DD\", 1, [delay])\n",
        "#Another QC\n",
        "qc_T2DD = QuantumCircuit(1, 1)\n",
        "\n",
        "qc_T2DD.append(T2DD_gate, [0])\n",
        "qc_T2DD.measure(0, 0)\n",
        "qc_T2DD.add_calibration(T2DD_gate, (0,), T2DD_schedule, [delay])\n",
        "\n",
        "exp_T2DD_circs = [qc_T2DD.assign_parameters({delay: get_dt_from(d)}, inplace=False) for d in taus_sec]"
      ]
    },
    {
      "cell_type": "code",
      "execution_count": 501,
      "metadata": {
        "colab": {
          "base_uri": "https://localhost:8080/",
          "height": 208
        },
        "id": "WMR3xk0WrNKT",
        "outputId": "75892c56-e0b7-4f18-e758-2f6495809990"
      },
      "outputs": [
        {
          "output_type": "execute_result",
          "data": {
            "text/plain": [
              "<Figure size 936x237.6 with 1 Axes>"
            ],
            "image/png": "[encoded data removed]"
          },
          "metadata": {},
          "execution_count": 501
        }
      ],
      "source": [
        "#Schedule fot T2 D.D.\n",
        "T2DD_schedule = schedule(exp_T2DD_circs[-1], backend)\n",
        "T2DD_schedule.draw(backend=backend)"
      ]
    },
    {
      "cell_type": "code",
      "execution_count": 502,
      "metadata": {
        "id": "lZiKazK3rkGO"
      },
      "outputs": [],
      "source": [
        "num_shots_per_point = 1024\n",
        "\n",
        "job = backend.run(exp_T2DD_circs,\n",
        "                  meas_level=1,\n",
        "                  meas_return='single',\n",
        "                  shots=num_shots_per_point)"
      ]
    },
    {
      "cell_type": "code",
      "execution_count": 503,
      "metadata": {
        "colab": {
          "base_uri": "https://localhost:8080/",
          "height": 34
        },
        "id": "3ZRbc3iqrkDk",
        "outputId": "02449d01-f185-4346-b49b-2fa662f0bbcf"
      },
      "outputs": [
        {
          "output_type": "stream",
          "name": "stdout",
          "text": [
            "Job Status: job has successfully run\n"
          ]
        }
      ],
      "source": [
        "job_monitor(job)"
      ]
    },
    {
      "cell_type": "code",
      "execution_count": 504,
      "metadata": {
        "id": "7RGBRnVqrj7D"
      },
      "outputs": [],
      "source": [
        "T2DD_results = job.result(timeout=120)"
      ]
    },
    {
      "cell_type": "code",
      "execution_count": 505,
      "metadata": {
        "colab": {
          "base_uri": "https://localhost:8080/",
          "height": 306
        },
        "id": "2NwEQDR1ruOT",
        "outputId": "79515287-a8c7-4d31-aebc-bdc8cfe8ca68"
      },
      "outputs": [
        {
          "output_type": "display_data",
          "data": {
            "text/plain": [
              "<Figure size 432x288 with 1 Axes>"
            ],
            "image/png": "[encoded data removed]"
          },
          "metadata": {
            "needs_background": "light"
          }
        }
      ],
      "source": [
        "times_sec = 4*num_sequence*taus_sec\n",
        "DD_values = []\n",
        "\n",
        "for i in range(len(times_sec)):\n",
        "    iq_data = T2DD_results.get_memory(i)[:,qubit] * scale_factor\n",
        "    DD_values.append(sum(map(classify, iq_data)) / num_shots_per_point)\n",
        "\n",
        "plt.scatter(times_sec/us, DD_values, color='black')\n",
        "plt.xlim(0, np.max(times_sec/us))\n",
        "plt.xlabel('Total time before measurement [$\\mu$s]', fontsize=15)\n",
        "plt.ylabel('Measured Signal [a.u.]', fontsize=15)\n",
        "plt.title('Dynamical Decoupling Experiment', fontsize=15)\n",
        "plt.show()"
      ]
    },
    {
      "cell_type": "code",
      "execution_count": 506,
      "metadata": {
        "colab": {
          "base_uri": "https://localhost:8080/",
          "height": 306
        },
        "id": "W_yP3reQruML",
        "outputId": "5b14a423-0436-4b77-b181-d4ffd6ced62f"
      },
      "outputs": [
        {
          "output_type": "display_data",
          "data": {
            "text/plain": [
              "<Figure size 432x288 with 1 Axes>"
            ],
            "image/png": "[encoded data removed]"
          },
          "metadata": {
            "needs_background": "light"
          }
        }
      ],
      "source": [
        "# Fit the data\n",
        "fit_func = lambda x, A, B, T2DD: (A * np.exp(-x / T2DD) + B)\n",
        "fitparams, conv = curve_fit(fit_func, times_sec/us, DD_values, [3.5, 0.8, 150])\n",
        "\n",
        "_, _, T2DD = fitparams\n",
        "plt.scatter(times_sec/us, DD_values, color='black')\n",
        "plt.plot(times_sec/us, fit_func(times_sec/us, *fitparams), color='red', label=f\"T2DD = {T2DD:.2f} us\")\n",
        "plt.xlim([0, np.max(times_sec/us)])\n",
        "plt.xlabel('Total time before measurement [$\\mu$s]', fontsize=15)\n",
        "plt.ylabel('Measured Signal [a.u.]', fontsize=15)\n",
        "plt.title('Dynamical Decoupling Experiment', fontsize=15)\n",
        "plt.legend()\n",
        "plt.show()"
      ]
    },
    {
      "cell_type": "code",
      "source": [
        "\"\"\"That little oscillation in the DD experiment graph \n",
        "means that my qubit is not totally in resonance, \n",
        "it's still oscillating between two states.\n",
        "It can be fixed by adjusting parameters in every experiment,\n",
        "and improving the curve fittings.\"\"\" "
      ],
      "metadata": {
        "id": "T-b4mZHrKjuo"
      },
      "execution_count": 235,
      "outputs": []
    }
  ],
  "metadata": {
    "colab": {
      "collapsed_sections": [],
      "provenance": []
    },
    "kernelspec": {
      "display_name": "Python 3 (ipykernel)",
      "language": "python",
      "name": "python3"
    },
    "language_info": {
      "codemirror_mode": {
        "name": "ipython",
        "version": 3
      },
      "file_extension": ".py",
      "mimetype": "text/x-python",
      "name": "python",
      "nbconvert_exporter": "python",
      "pygments_lexer": "ipython3",
      "version": "3.8.13"
    },
    "widgets": {
      "application/vnd.jupyter.widget-state+json": {
        "d7be2bcb04c54cbb9c2db0bc2ef90f74": {
          "model_module": "@jupyter-widgets/controls",
          "model_name": "VBoxModel",
          "model_module_version": "1.5.0",
          "state": {
            "_dom_classes": [],
            "_model_module": "@jupyter-widgets/controls",
            "_model_module_version": "1.5.0",
            "_model_name": "VBoxModel",
            "_view_count": null,
            "_view_module": "@jupyter-widgets/controls",
            "_view_module_version": "1.5.0",
            "_view_name": "VBoxView",
            "box_style": "",
            "children": [
              "IPY_MODEL_dada061cb6a644408876a44d25391327",
              "IPY_MODEL_1bf3e18c03e346958012a4a9a047ea5f"
            ],
            "layout": "IPY_MODEL_3265a4cb09b04e9cb1c6ea6ff359497f"
          }
        },
        "dada061cb6a644408876a44d25391327": {
          "model_module": "@jupyter-widgets/controls",
          "model_name": "HTMLModel",
          "model_module_version": "1.5.0",
          "state": {
            "_dom_classes": [],
            "_model_module": "@jupyter-widgets/controls",
            "_model_module_version": "1.5.0",
            "_model_name": "HTMLModel",
            "_view_count": null,
            "_view_module": "@jupyter-widgets/controls",
            "_view_module_version": "1.5.0",
            "_view_name": "HTMLView",
            "description": "",
            "description_tooltip": null,
            "layout": "IPY_MODEL_6c122a8b61f6470db0373526d7ea95e3",
            "placeholder": "​",
            "style": "IPY_MODEL_4cb9464546454dc18d747264404c334e",
            "value": "<h1 style='color:#ffffff;background-color:#000000;padding-top: 1%;padding-bottom: 1%;padding-left: 1%; margin-top: 0px'>ibmq_belem</h1>"
          }
        },
        "1bf3e18c03e346958012a4a9a047ea5f": {
          "model_module": "@jupyter-widgets/controls",
          "model_name": "TabModel",
          "model_module_version": "1.5.0",
          "state": {
            "_dom_classes": [],
            "_model_module": "@jupyter-widgets/controls",
            "_model_module_version": "1.5.0",
            "_model_name": "TabModel",
            "_titles": {
              "0": "Configuration",
              "1": "Qubit Properties",
              "2": "Multi-Qubit Gates",
              "3": "Error Map",
              "4": "Job History"
            },
            "_view_count": null,
            "_view_module": "@jupyter-widgets/controls",
            "_view_module_version": "1.5.0",
            "_view_name": "TabView",
            "box_style": "",
            "children": [
              "IPY_MODEL_d5896216e9974713a898421e1a792b12",
              "IPY_MODEL_90daaf253772499c8c4b5eb55b77fdea",
              "IPY_MODEL_dbf911150f134c3ab2c9a6208b07095b",
              "IPY_MODEL_86d2db9b16054616be2844a150db243f",
              "IPY_MODEL_d132fb8451004229a4e5319623b80032"
            ],
            "layout": "IPY_MODEL_c9e5d2cf463a4fa291e3c285f1d3cca7",
            "selected_index": 0
          }
        },
        "3265a4cb09b04e9cb1c6ea6ff359497f": {
          "model_module": "@jupyter-widgets/base",
          "model_name": "LayoutModel",
          "model_module_version": "1.2.0",
          "state": {
            "_model_module": "@jupyter-widgets/base",
            "_model_module_version": "1.2.0",
            "_model_name": "LayoutModel",
            "_view_count": null,
            "_view_module": "@jupyter-widgets/base",
            "_view_module_version": "1.2.0",
            "_view_name": "LayoutView",
            "align_content": null,
            "align_items": null,
            "align_self": null,
            "border": "4px solid #000000",
            "bottom": null,
            "display": null,
            "flex": null,
            "flex_flow": null,
            "grid_area": null,
            "grid_auto_columns": null,
            "grid_auto_flow": null,
            "grid_auto_rows": null,
            "grid_column": null,
            "grid_gap": null,
            "grid_row": null,
            "grid_template_areas": null,
            "grid_template_columns": null,
            "grid_template_rows": null,
            "height": null,
            "justify_content": null,
            "justify_items": null,
            "left": null,
            "margin": null,
            "max_height": "650px",
            "max_width": null,
            "min_height": "650px",
            "min_width": null,
            "object_fit": null,
            "object_position": null,
            "order": null,
            "overflow": null,
            "overflow_x": null,
            "overflow_y": "hidden",
            "padding": null,
            "right": null,
            "top": null,
            "visibility": null,
            "width": null
          }
        },
        "6c122a8b61f6470db0373526d7ea95e3": {
          "model_module": "@jupyter-widgets/base",
          "model_name": "LayoutModel",
          "model_module_version": "1.2.0",
          "state": {
            "_model_module": "@jupyter-widgets/base",
            "_model_module_version": "1.2.0",
            "_model_name": "LayoutModel",
            "_view_count": null,
            "_view_module": "@jupyter-widgets/base",
            "_view_module_version": "1.2.0",
            "_view_name": "LayoutView",
            "align_content": null,
            "align_items": null,
            "align_self": null,
            "border": null,
            "bottom": null,
            "display": null,
            "flex": null,
            "flex_flow": null,
            "grid_area": null,
            "grid_auto_columns": null,
            "grid_auto_flow": null,
            "grid_auto_rows": null,
            "grid_column": null,
            "grid_gap": null,
            "grid_row": null,
            "grid_template_areas": null,
            "grid_template_columns": null,
            "grid_template_rows": null,
            "height": null,
            "justify_content": null,
            "justify_items": null,
            "left": null,
            "margin": "0px 0px 0px 0px",
            "max_height": null,
            "max_width": null,
            "min_height": null,
            "min_width": null,
            "object_fit": null,
            "object_position": null,
            "order": null,
            "overflow": null,
            "overflow_x": null,
            "overflow_y": null,
            "padding": null,
            "right": null,
            "top": null,
            "visibility": null,
            "width": null
          }
        },
        "4cb9464546454dc18d747264404c334e": {
          "model_module": "@jupyter-widgets/controls",
          "model_name": "DescriptionStyleModel",
          "model_module_version": "1.5.0",
          "state": {
            "_model_module": "@jupyter-widgets/controls",
            "_model_module_version": "1.5.0",
            "_model_name": "DescriptionStyleModel",
            "_view_count": null,
            "_view_module": "@jupyter-widgets/base",
            "_view_module_version": "1.2.0",
            "_view_name": "StyleView",
            "description_width": ""
          }
        },
        "d5896216e9974713a898421e1a792b12": {
          "model_module": "@jupyter-widgets/controls",
          "model_name": "GridBoxModel",
          "model_module_version": "1.5.0",
          "state": {
            "_dom_classes": [],
            "_model_module": "@jupyter-widgets/controls",
            "_model_module_version": "1.5.0",
            "_model_name": "GridBoxModel",
            "_view_count": null,
            "_view_module": "@jupyter-widgets/controls",
            "_view_module_version": "1.5.0",
            "_view_name": "GridBoxView",
            "box_style": "",
            "children": [
              "IPY_MODEL_664f49606aba4a51819b3c96a3f5fc03",
              "IPY_MODEL_cfd9edff7a764906a03b78c687bde6c5",
              "IPY_MODEL_45004e8b866f45b6a4b5727f1030f5e8"
            ],
            "layout": "IPY_MODEL_3d313e917ead48eda923d2428a940910"
          }
        },
        "90daaf253772499c8c4b5eb55b77fdea": {
          "model_module": "@jupyter-widgets/controls",
          "model_name": "VBoxModel",
          "model_module_version": "1.5.0",
          "state": {
            "_dom_classes": [],
            "_model_module": "@jupyter-widgets/controls",
            "_model_module_version": "1.5.0",
            "_model_name": "VBoxModel",
            "_view_count": null,
            "_view_module": "@jupyter-widgets/controls",
            "_view_module_version": "1.5.0",
            "_view_name": "VBoxView",
            "box_style": "",
            "children": [
              "IPY_MODEL_387c93bcc2e647e3b764aadf594cf754",
              "IPY_MODEL_6bceac070d5c4040aeca31a24abcbd60"
            ],
            "layout": "IPY_MODEL_3acba4717cda432d92f8eaaf266dcc0a"
          }
        },
        "dbf911150f134c3ab2c9a6208b07095b": {
          "model_module": "@jupyter-widgets/controls",
          "model_name": "GridBoxModel",
          "model_module_version": "1.5.0",
          "state": {
            "_dom_classes": [],
            "_model_module": "@jupyter-widgets/controls",
            "_model_module_version": "1.5.0",
            "_model_name": "GridBoxModel",
            "_view_count": null,
            "_view_module": "@jupyter-widgets/controls",
            "_view_module_version": "1.5.0",
            "_view_name": "GridBoxView",
            "box_style": "",
            "children": [
              "IPY_MODEL_018e222548f74f4a901d0fa352761ce6",
              "IPY_MODEL_ea8bc05990d54617994933d4061ee047",
              "IPY_MODEL_d8e4989f31e04955809304805c516ea8",
              "IPY_MODEL_c8e20d28aad94b8181dd00c1bd729315"
            ],
            "layout": "IPY_MODEL_1b2fd89c69b4472283ad4f05b8d4c674"
          }
        },
        "86d2db9b16054616be2844a150db243f": {
          "model_module": "@jupyter-widgets/output",
          "model_name": "OutputModel",
          "model_module_version": "1.0.0",
          "state": {
            "_dom_classes": [],
            "_model_module": "@jupyter-widgets/output",
            "_model_module_version": "1.0.0",
            "_model_name": "OutputModel",
            "_view_count": null,
            "_view_module": "@jupyter-widgets/output",
            "_view_module_version": "1.0.0",
            "_view_name": "OutputView",
            "layout": "IPY_MODEL_9c54aabc1a6e40cb84f3d0524dfaefd5",
            "msg_id": "",
            "outputs": [
              {
                "output_type": "display_data",
                "data": {
                  "text/plain": "<Figure size 792x648 with 5 Axes>",
                  "image/png": "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\n"
                },
                "metadata": {}
              }
            ]
          }
        },
        "d132fb8451004229a4e5319623b80032": {
          "model_module": "@jupyter-widgets/controls",
          "model_name": "TabModel",
          "model_module_version": "1.5.0",
          "state": {
            "_dom_classes": [],
            "_model_module": "@jupyter-widgets/controls",
            "_model_module_version": "1.5.0",
            "_model_name": "TabModel",
            "_titles": {},
            "_view_count": null,
            "_view_module": "@jupyter-widgets/controls",
            "_view_module_version": "1.5.0",
            "_view_name": "TabView",
            "box_style": "",
            "children": [],
            "layout": "IPY_MODEL_9ed06cc401654ff9853b63340f7cc861",
            "selected_index": 0
          }
        },
        "c9e5d2cf463a4fa291e3c285f1d3cca7": {
          "model_module": "@jupyter-widgets/base",
          "model_name": "LayoutModel",
          "model_module_version": "1.2.0",
          "state": {
            "_model_module": "@jupyter-widgets/base",
            "_model_module_version": "1.2.0",
            "_model_name": "LayoutModel",
            "_view_count": null,
            "_view_module": "@jupyter-widgets/base",
            "_view_module_version": "1.2.0",
            "_view_name": "LayoutView",
            "align_content": null,
            "align_items": null,
            "align_self": null,
            "border": null,
            "bottom": null,
            "display": null,
            "flex": null,
            "flex_flow": null,
            "grid_area": null,
            "grid_auto_columns": null,
            "grid_auto_flow": null,
            "grid_auto_rows": null,
            "grid_column": null,
            "grid_gap": null,
            "grid_row": null,
            "grid_template_areas": null,
            "grid_template_columns": null,
            "grid_template_rows": null,
            "height": null,
            "justify_content": null,
            "justify_items": null,
            "left": null,
            "margin": null,
            "max_height": null,
            "max_width": null,
            "min_height": null,
            "min_width": null,
            "object_fit": null,
            "object_position": null,
            "order": null,
            "overflow": null,
            "overflow_x": null,
            "overflow_y": "scroll",
            "padding": null,
            "right": null,
            "top": null,
            "visibility": null,
            "width": null
          }
        },
        "664f49606aba4a51819b3c96a3f5fc03": {
          "model_module": "@jupyter-widgets/controls",
          "model_name": "HTMLMathModel",
          "model_module_version": "1.5.0",
          "state": {
            "_dom_classes": [],
            "_model_module": "@jupyter-widgets/controls",
            "_model_module_version": "1.5.0",
            "_model_name": "HTMLMathModel",
            "_view_count": null,
            "_view_module": "@jupyter-widgets/controls",
            "_view_module_version": "1.5.0",
            "_view_name": "HTMLMathView",
            "description": "",
            "description_tooltip": null,
            "layout": "IPY_MODEL_eaeb1eaf2ec9423ba61b83b2404de530",
            "placeholder": "​",
            "style": "IPY_MODEL_5e1f055640e640b5b71cdc7a7aa0ffbd",
            "value": "<table><style>\ntable {\n    border-collapse: collapse;\n    width: auto;\n}\n\nth, td {\n    text-align: left;\n    padding: 8px;\n}\n\ntr:nth-child(even) {background-color: #f6f6f6;}\n</style><tr><th>Property</th><th>Value</th></tr><tr><td><font style='font-weight:bold'>n_qubits</font></td><td>5</td></tr><tr><td><font style='font-weight:bold'>quantum_volume</font></td><td>16</td></tr><tr><td><font style='font-weight:bold'>operational</font></td><td>True</td></tr><tr><td><font style='font-weight:bold'>status_msg</font></td><td>active</td></tr><tr><td><font style='font-weight:bold'>pending_jobs</font></td><td>59</td></tr><tr><td><font style='font-weight:bold'>backend_version</font></td><td>1.0.52</td></tr><tr><td><font style='font-weight:bold'>basis_gates</font></td><td>['id', 'rz', 'sx', 'x', 'cx', 'reset']</td></tr><tr><td><font style='font-weight:bold'>max_shots</font></td><td>20000</td></tr><tr><td><font style='font-weight:bold'>max_experiments</font></td><td>100</td></tr></table>"
          }
        },
        "cfd9edff7a764906a03b78c687bde6c5": {
          "model_module": "@jupyter-widgets/output",
          "model_name": "OutputModel",
          "model_module_version": "1.0.0",
          "state": {
            "_dom_classes": [],
            "_model_module": "@jupyter-widgets/output",
            "_model_module_version": "1.0.0",
            "_model_name": "OutputModel",
            "_view_count": null,
            "_view_module": "@jupyter-widgets/output",
            "_view_module_version": "1.0.0",
            "_view_name": "OutputView",
            "layout": "IPY_MODEL_b3e547b1aa184aa5b87fea12208e664a",
            "msg_id": "",
            "outputs": [
              {
                "output_type": "display_data",
                "data": {
                  "text/plain": "<Figure size 360x360 with 1 Axes>",
                  "image/png": "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\n"
                },
                "metadata": {}
              }
            ]
          }
        },
        "45004e8b866f45b6a4b5727f1030f5e8": {
          "model_module": "@jupyter-widgets/controls",
          "model_name": "HTMLMathModel",
          "model_module_version": "1.5.0",
          "state": {
            "_dom_classes": [],
            "_model_module": "@jupyter-widgets/controls",
            "_model_module_version": "1.5.0",
            "_model_name": "HTMLMathModel",
            "_view_count": null,
            "_view_module": "@jupyter-widgets/controls",
            "_view_module_version": "1.5.0",
            "_view_name": "HTMLMathView",
            "description": "",
            "description_tooltip": null,
            "layout": "IPY_MODEL_8a408d22d4f4435b9bd327ad70547b86",
            "placeholder": "​",
            "style": "IPY_MODEL_49c72fb3ff4545269989fb8730622c7c",
            "value": "<table><style>\ntable {\n    border-collapse: collapse;\n    width: auto;\n}\n\nth, td {\n    text-align: left;\n    padding: 8px;\n}\n\ntr:nth-child(even) {background-color: #f6f6f6;}\n</style><tr><th></th><th></th></tr><tr><td>pulse_num_qubits</td><td>3</td></tr><tr><td>credits_required</td><td>True</td></tr><tr><td>qubit_lo_range</td><td>[[4.590211874901602, 5.590211874901602], [4.7455288902055335, 5.7455288902055335], [4.861497534358495, 5.861497534358495], [4.670327739058242, 5.670327739058242], [4.758144964637686, 5.758144964637686]]</td></tr><tr><td>uchannels_enabled</td><td>True</td></tr><tr><td>channels</td><td>{'acquire0': {'operates': {'qubits': [0]}, 'purpose': 'acquire', 'type': 'acquire'}, 'acquire1': {'operates': {'qubits': [1]}, 'purpose': 'acquire', 'type': 'acquire'}, 'acquire2': {'operates': {'qubits': [2]}, 'purpose': 'acquire', 'type': 'acquire'}, 'acquire3': {'operates': {'qubits': [3]}, 'purpose': 'acquire', 'type': 'acquire'}, 'acquire4': {'operates': {'qubits': [4]}, 'purpose': 'acquire', 'type': 'acquire'}, 'd0': {'operates': {'qubits': [0]}, 'purpose': 'drive', 'type': 'drive'}, 'd1': {'operates': {'qubits': [1]}, 'purpose': 'drive', 'type': 'drive'}, 'd2': {'operates': {'qubits': [2]}, 'purpose': 'drive', 'type': 'drive'}, 'd3': {'operates': {'qubits': [3]}, 'purpose': 'drive', 'type': 'drive'}, 'd4': {'operates': {'qubits': [4]}, 'purpose': 'drive', 'type': 'drive'}, 'm0': {'operates': {'qubits': [0]}, 'purpose': 'measure', 'type': 'measure'}, 'm1': {'operates': {'qubits': [1]}, 'purpose': 'measure', 'type': 'measure'}, 'm2': {'operates': {'qubits': [2]}, 'purpose': 'measure', 'type': 'measure'}, 'm3': {'operates': {'qubits': [3]}, 'purpose': 'measure', 'type': 'measure'}, 'm4': {'operates': {'qubits': [4]}, 'purpose': 'measure', 'type': 'measure'}, 'u0': {'operates': {'qubits': [0, 1]}, 'purpose': 'cross-resonance', 'type': 'control'}, 'u1': {'operates': {'qubits': [1, 0]}, 'purpose': 'cross-resonance', 'type': 'control'}, 'u2': {'operates': {'qubits': [1, 2]}, 'purpose': 'cross-resonance', 'type': 'control'}, 'u3': {'operates': {'qubits': [1, 3]}, 'purpose': 'cross-resonance', 'type': 'control'}, 'u4': {'operates': {'qubits': [2, 1]}, 'purpose': 'cross-resonance', 'type': 'control'}, 'u5': {'operates': {'qubits': [3, 1]}, 'purpose': 'cross-resonance', 'type': 'control'}, 'u6': {'operates': {'qubits': [3, 4]}, 'purpose': 'cross-resonance', 'type': 'control'}, 'u7': {'operates': {'qubits': [4, 3]}, 'purpose': 'cross-resonance', 'type': 'control'}}</td></tr><tr><td>hamiltonian</td><td>$$\\begin{align} \\mathcal{H}/\\hbar = & \\sum_{i=0}^{4}\\left(\\frac{\\omega_{q,i}}{2}(\\mathbb{I}-\\sigma_i^{z})+\\frac{\\Delta_{i}}{2}(O_i^2-O_i)+\\Omega_{d,i}D_i(t)\\sigma_i^{X}\\right) \\\\ & + J_{0,1}(\\sigma_{0}^{+}\\sigma_{1}^{-}+\\sigma_{0}^{-}\\sigma_{1}^{+}) + J_{1,2}(\\sigma_{1}^{+}\\sigma_{2}^{-}+\\sigma_{1}^{-}\\sigma_{2}^{+}) + J_{1,3}(\\sigma_{1}^{+}\\sigma_{3}^{-}+\\sigma_{1}^{-}\\sigma_{3}^{+}) + J_{3,4}(\\sigma_{3}^{+}\\sigma_{4}^{-}+\\sigma_{3}^{-}\\sigma_{4}^{+}) \\\\ & + \\Omega_{d,0}(U_{0}^{(0,1)}(t))\\sigma_{0}^{X} + \\Omega_{d,1}(U_{1}^{(1,0)}(t)+U_{3}^{(1,3)}(t)+U_{2}^{(1,2)}(t))\\sigma_{1}^{X} \\\\ & + \\Omega_{d,2}(U_{4}^{(2,1)}(t))\\sigma_{2}^{X} + \\Omega_{d,3}(U_{6}^{(3,4)}(t)+U_{5}^{(3,1)}(t))\\sigma_{3}^{X} \\\\ & + \\Omega_{d,4}(U_{7}^{(4,3)}(t))\\sigma_{4}^{X} \\\\ \\end{align}$$</td></tr><tr><td>description</td><td>5 qubit device Belem</td></tr><tr><td>supported_instructions</td><td>['u2', 'acquire', 'id', 'delay', 'x', 'setf', 'sx', 'reset', 'u1', 'cx', 'shiftf', 'play', 'u3', 'rz', 'measure']</td></tr><tr><td>processor_type</td><td>{'family': 'Falcon', 'revision': 4, 'segment': 'T'}</td></tr><tr><td>url</td><td>None</td></tr><tr><td>local</td><td>False</td></tr><tr><td>clops</td><td>2454</td></tr><tr><td>coupling_map</td><td>[[0, 1], [1, 0], [1, 2], [1, 3], [2, 1], [3, 1], [3, 4], [4, 3]]</td></tr><tr><td>conditional_latency</td><td>[]</td></tr><tr><td>live_data</td><td>False</td></tr><tr><td>allow_object_storage</td><td>True</td></tr><tr><td>qubit_channel_mapping</td><td>[['u1', 'd0', 'm0', 'u0'], ['u5', 'u2', 'm1', 'u0', 'u1', 'd1', 'u3', 'u4'], ['u4', 'd2', 'm2', 'u2'], ['u5', 'm3', 'u6', 'd3', 'u3', 'u7'], ['u7', 'm4', 'd4', 'u6']]</td></tr><tr><td>meas_kernels</td><td>['hw_boxcar']</td></tr><tr><td>dtm</td><td>0.2222222222222222</td></tr><tr><td>u_channel_lo</td><td>[[{'q': 1, 'scale': (1+0j)}], [{'q': 0, 'scale': (1+0j)}], [{'q': 2, 'scale': (1+0j)}], [{'q': 3, 'scale': (1+0j)}], [{'q': 1, 'scale': (1+0j)}], [{'q': 1, 'scale': (1+0j)}], [{'q': 4, 'scale': (1+0j)}], [{'q': 3, 'scale': (1+0j)}]]</td></tr><tr><td>dynamic_reprate_enabled</td><td>True</td></tr><tr><td>rep_times</td><td>[1000.0]</td></tr><tr><td>rep_delay_range</td><td>[0.0, 500.0]</td></tr><tr><td>backend_name</td><td>ibmq_belem</td></tr><tr><td>input_allowed</td><td>['job', 'runtime']</td></tr><tr><td>acquisition_latency</td><td>[]</td></tr><tr><td>online_date</td><td>2021-01-08 05:00:00+00:00</td></tr><tr><td>default_rep_delay</td><td>250.0</td></tr><tr><td>conditional</td><td>False</td></tr><tr><td>simulator</td><td>False</td></tr><tr><td>n_uchannels</td><td>8</td></tr><tr><td>parametric_pulses</td><td>['gaussian', 'gaussian_square', 'drag', 'constant']</td></tr><tr><td>meas_map</td><td>[[0, 1, 2, 3, 4]]</td></tr><tr><td>multi_meas_enabled</td><td>True</td></tr><tr><td>dt</td><td>0.2222222222222222</td></tr><tr><td>parallel_compilation</td><td>False</td></tr><tr><td>sample_name</td><td>family: Falcon, revision: 4, segment: T</td></tr><tr><td>open_pulse</td><td>False</td></tr><tr><td>meas_levels</td><td>[1, 2]</td></tr><tr><td>meas_lo_range</td><td>[[6.801574705, 7.801574705], [6.8934333720000005, 7.8934333720000005], [6.860065181, 7.860065181], [6.8033823270000005, 7.8033823270000005], [6.926223338000001, 7.926223338000001]]</td></tr><tr><td>n_registers</td><td>1</td></tr><tr><td>pulse_num_channels</td><td>9</td></tr><tr><td>memory</td><td>True</td></tr><tr><td>measure_esp_enabled</td><td>False</td></tr><tr><td>allow_q_object</td><td>True</td></tr><tr><td>discriminators</td><td>['linear_discriminator', 'quadratic_discriminator', 'hw_centroid']</td></tr><tr><td>supported_features</td><td>['qobj']</td></tr><tr><td>timing_constraints</td><td>{'acquire_alignment': 16, 'granularity': 16, 'min_length': 64, 'pulse_alignment': 1}</td></tr></table>"
          }
        },
        "3d313e917ead48eda923d2428a940910": {
          "model_module": "@jupyter-widgets/base",
          "model_name": "LayoutModel",
          "model_module_version": "1.2.0",
          "state": {
            "_model_module": "@jupyter-widgets/base",
            "_model_module_version": "1.2.0",
            "_model_name": "LayoutModel",
            "_view_count": null,
            "_view_module": "@jupyter-widgets/base",
            "_view_module_version": "1.2.0",
            "_view_name": "LayoutView",
            "align_content": null,
            "align_items": null,
            "align_self": null,
            "border": null,
            "bottom": null,
            "display": null,
            "flex": null,
            "flex_flow": null,
            "grid_area": null,
            "grid_auto_columns": null,
            "grid_auto_flow": null,
            "grid_auto_rows": null,
            "grid_column": null,
            "grid_gap": "0px 0px",
            "grid_row": null,
            "grid_template_areas": "\n                               \"left right right right\"\n                               \"bottom bottom bottom bottom\"\n                               ",
            "grid_template_columns": "31% 23% 23% 23%",
            "grid_template_rows": "auto auto",
            "height": null,
            "justify_content": null,
            "justify_items": null,
            "left": null,
            "margin": null,
            "max_height": null,
            "max_width": null,
            "min_height": null,
            "min_width": null,
            "object_fit": null,
            "object_position": null,
            "order": null,
            "overflow": null,
            "overflow_x": null,
            "overflow_y": null,
            "padding": null,
            "right": null,
            "top": null,
            "visibility": null,
            "width": null
          }
        },
        "387c93bcc2e647e3b764aadf594cf754": {
          "model_module": "@jupyter-widgets/controls",
          "model_name": "HTMLModel",
          "model_module_version": "1.5.0",
          "state": {
            "_dom_classes": [],
            "_model_module": "@jupyter-widgets/controls",
            "_model_module_version": "1.5.0",
            "_model_name": "HTMLModel",
            "_view_count": null,
            "_view_module": "@jupyter-widgets/controls",
            "_view_module_version": "1.5.0",
            "_view_name": "HTMLView",
            "description": "",
            "description_tooltip": null,
            "layout": "IPY_MODEL_62e21e77b1234f83b027fe1ce8b8f617",
            "placeholder": "​",
            "style": "IPY_MODEL_e304b7cfdc644c32a16628b6a5209f48",
            "value": "<div><font style='font-weight:bold'>last_update_date</font>: Mon 07 November 2022 at 07:19 UTC</div>"
          }
        },
        "6bceac070d5c4040aeca31a24abcbd60": {
          "model_module": "@jupyter-widgets/controls",
          "model_name": "HTMLModel",
          "model_module_version": "1.5.0",
          "state": {
            "_dom_classes": [],
            "_model_module": "@jupyter-widgets/controls",
            "_model_module_version": "1.5.0",
            "_model_name": "HTMLModel",
            "_view_count": null,
            "_view_module": "@jupyter-widgets/controls",
            "_view_module_version": "1.5.0",
            "_view_name": "HTMLView",
            "description": "",
            "description_tooltip": null,
            "layout": "IPY_MODEL_629eeb1c0b064243ae63e54bfa50e0e8",
            "placeholder": "​",
            "style": "IPY_MODEL_4e09f876eb204290a0c15972d5e462a0",
            "value": "<table><style>\ntable {\n    border-collapse: collapse;\n    width: auto;\n}\n\nth, td {\n    text-align: left;\n    padding: 8px;\n}\n\ntr:nth-child(even) {background-color: #f6f6f6;}\n</style><tr><th></th><th>Frequency</th><th>T1</th><th>T2</th><th>RZ</th><th>SX</th><th>X</th><th>Readout error</th></tr><tr><td><font style='font-weight:bold'>Q0</font></td><td>5.09021 GHz</td><td>136.67223 us</td><td>125.39208 us</td><td>0</td><td>0.00018</td><td>0.00018</td><td>0.0155 </td><tr><td><font style='font-weight:bold'>Q1</font></td><td>5.24553 GHz</td><td>98.9939 us</td><td>111.07778 us</td><td>0</td><td>0.00029</td><td>0.00029</td><td>0.0217 </td><tr><td><font style='font-weight:bold'>Q2</font></td><td>5.3615 GHz</td><td>62.61878 us</td><td>52.33799 us</td><td>0</td><td>0.00029</td><td>0.00029</td><td>0.0395 </td><tr><td><font style='font-weight:bold'>Q3</font></td><td>5.17033 GHz</td><td>141.76576 us</td><td>158.28277 us</td><td>0</td><td>0.00024</td><td>0.00024</td><td>0.036 </td><tr><td><font style='font-weight:bold'>Q4</font></td><td>5.25814 GHz</td><td>70.90126 us</td><td>94.23838 us</td><td>0</td><td>0.14895</td><td>0.14895</td><td>0.0987 </td></table>"
          }
        },
        "3acba4717cda432d92f8eaaf266dcc0a": {
          "model_module": "@jupyter-widgets/base",
          "model_name": "LayoutModel",
          "model_module_version": "1.2.0",
          "state": {
            "_model_module": "@jupyter-widgets/base",
            "_model_module_version": "1.2.0",
            "_model_name": "LayoutModel",
            "_view_count": null,
            "_view_module": "@jupyter-widgets/base",
            "_view_module_version": "1.2.0",
            "_view_name": "LayoutView",
            "align_content": null,
            "align_items": null,
            "align_self": null,
            "border": null,
            "bottom": null,
            "display": null,
            "flex": null,
            "flex_flow": null,
            "grid_area": null,
            "grid_auto_columns": null,
            "grid_auto_flow": null,
            "grid_auto_rows": null,
            "grid_column": null,
            "grid_gap": null,
            "grid_row": null,
            "grid_template_areas": null,
            "grid_template_columns": null,
            "grid_template_rows": null,
            "height": null,
            "justify_content": null,
            "justify_items": null,
            "left": null,
            "margin": null,
            "max_height": null,
            "max_width": null,
            "min_height": null,
            "min_width": null,
            "object_fit": null,
            "object_position": null,
            "order": null,
            "overflow": null,
            "overflow_x": null,
            "overflow_y": null,
            "padding": null,
            "right": null,
            "top": null,
            "visibility": null,
            "width": null
          }
        },
        "018e222548f74f4a901d0fa352761ce6": {
          "model_module": "@jupyter-widgets/controls",
          "model_name": "HTMLModel",
          "model_module_version": "1.5.0",
          "state": {
            "_dom_classes": [],
            "_model_module": "@jupyter-widgets/controls",
            "_model_module_version": "1.5.0",
            "_model_name": "HTMLModel",
            "_view_count": null,
            "_view_module": "@jupyter-widgets/controls",
            "_view_module_version": "1.5.0",
            "_view_name": "HTMLView",
            "description": "",
            "description_tooltip": null,
            "layout": "IPY_MODEL_5dda32cd65714a08ab35200402a07023",
            "placeholder": "​",
            "style": "IPY_MODEL_76c5647bff9a44d7b5c1a9b554fd75ab",
            "value": "<div><font style='font-weight:bold'>last_update_date</font>: 2022-11-07 07:19:18+00:00</div>"
          }
        },
        "ea8bc05990d54617994933d4061ee047": {
          "model_module": "@jupyter-widgets/controls",
          "model_name": "HTMLModel",
          "model_module_version": "1.5.0",
          "state": {
            "_dom_classes": [],
            "_model_module": "@jupyter-widgets/controls",
            "_model_module_version": "1.5.0",
            "_model_name": "HTMLModel",
            "_view_count": null,
            "_view_module": "@jupyter-widgets/controls",
            "_view_module_version": "1.5.0",
            "_view_name": "HTMLView",
            "description": "",
            "description_tooltip": null,
            "layout": "IPY_MODEL_6651a4fea73a4d8c8399461d179e3aae",
            "placeholder": "​",
            "style": "IPY_MODEL_e0b8e2056029436c99d4928a4558fffc",
            "value": "<table><style>\ntable {\n    border-collapse: collapse;\n    width: auto;\n}\n\nth, td {\n    text-align: left;\n    padding: 8px;\n}\n\ntr:nth-child(even) {background-color: #f6f6f6;};\n</style><tr><th></th><th>Type</th><th>Gate error</th></tr><tr><td><font style='font-weight:bold'>cx3_1</font></td><td>cx</td><td>0.00803</td></tr><tr><td><font style='font-weight:bold'>cx1_3</font></td><td>cx</td><td>0.00803</td></tr><tr><td><font style='font-weight:bold'>cx2_1</font></td><td>cx</td><td>0.00769</td></tr></table>"
          }
        },
        "d8e4989f31e04955809304805c516ea8": {
          "model_module": "@jupyter-widgets/controls",
          "model_name": "HTMLModel",
          "model_module_version": "1.5.0",
          "state": {
            "_dom_classes": [],
            "_model_module": "@jupyter-widgets/controls",
            "_model_module_version": "1.5.0",
            "_model_name": "HTMLModel",
            "_view_count": null,
            "_view_module": "@jupyter-widgets/controls",
            "_view_module_version": "1.5.0",
            "_view_name": "HTMLView",
            "description": "",
            "description_tooltip": null,
            "layout": "IPY_MODEL_f8b0010c5e8e4338ad831685a9c704b9",
            "placeholder": "​",
            "style": "IPY_MODEL_fc086e0a10744e4e838c2afb5c577c8d",
            "value": "<table><style>\ntable {\n    border-collapse: collapse;\n    width: auto;\n}\n\nth, td {\n    text-align: left;\n    padding: 8px;\n}\n\ntr:nth-child(even) {background-color: #f6f6f6;};\n</style><tr><th></th><th>Type</th><th>Gate error</th></tr><tr><td><font style='font-weight:bold'>cx1_2</font></td><td>cx</td><td>0.00769</td></tr><tr><td><font style='font-weight:bold'>cx1_0</font></td><td>cx</td><td>0.01306</td></tr><tr><td><font style='font-weight:bold'>cx0_1</font></td><td>cx</td><td>0.01306</td></tr></table>"
          }
        },
        "c8e20d28aad94b8181dd00c1bd729315": {
          "model_module": "@jupyter-widgets/controls",
          "model_name": "HTMLModel",
          "model_module_version": "1.5.0",
          "state": {
            "_dom_classes": [],
            "_model_module": "@jupyter-widgets/controls",
            "_model_module_version": "1.5.0",
            "_model_name": "HTMLModel",
            "_view_count": null,
            "_view_module": "@jupyter-widgets/controls",
            "_view_module_version": "1.5.0",
            "_view_name": "HTMLView",
            "description": "",
            "description_tooltip": null,
            "layout": "IPY_MODEL_123aac27264146d79e454a2c86e1b28f",
            "placeholder": "​",
            "style": "IPY_MODEL_122f4cd639704587a7109646013547cb",
            "value": "<table><style>\ntable {\n    border-collapse: collapse;\n    width: auto;\n}\n\nth, td {\n    text-align: left;\n    padding: 8px;\n}\n\ntr:nth-child(even) {background-color: #f6f6f6;};\n</style><tr><th></th><th>Type</th><th>Gate error</th></tr><tr><td><font style='font-weight:bold'>cx4_3</font></td><td>cx</td><td>1</td></tr><tr><td><font style='font-weight:bold'>cx3_4</font></td><td>cx</td><td>1</td></tr></table>"
          }
        },
        "1b2fd89c69b4472283ad4f05b8d4c674": {
          "model_module": "@jupyter-widgets/base",
          "model_name": "LayoutModel",
          "model_module_version": "1.2.0",
          "state": {
            "_model_module": "@jupyter-widgets/base",
            "_model_module_version": "1.2.0",
            "_model_name": "LayoutModel",
            "_view_count": null,
            "_view_module": "@jupyter-widgets/base",
            "_view_module_version": "1.2.0",
            "_view_name": "LayoutView",
            "align_content": null,
            "align_items": null,
            "align_self": null,
            "border": null,
            "bottom": null,
            "display": null,
            "flex": null,
            "flex_flow": null,
            "grid_area": null,
            "grid_auto_columns": null,
            "grid_auto_flow": null,
            "grid_auto_rows": null,
            "grid_column": null,
            "grid_gap": "0px 0px",
            "grid_row": null,
            "grid_template_areas": "\n                                                   \"top top top\"\n                                                   \"left middle right\"\n                                                   ",
            "grid_template_columns": "33% 33% 33%",
            "grid_template_rows": "auto auto",
            "height": null,
            "justify_content": null,
            "justify_items": null,
            "left": null,
            "margin": null,
            "max_height": null,
            "max_width": null,
            "min_height": null,
            "min_width": null,
            "object_fit": null,
            "object_position": null,
            "order": null,
            "overflow": null,
            "overflow_x": null,
            "overflow_y": null,
            "padding": null,
            "right": null,
            "top": null,
            "visibility": null,
            "width": null
          }
        },
        "9ed06cc401654ff9853b63340f7cc861": {
          "model_module": "@jupyter-widgets/base",
          "model_name": "LayoutModel",
          "model_module_version": "1.2.0",
          "state": {
            "_model_module": "@jupyter-widgets/base",
            "_model_module_version": "1.2.0",
            "_model_name": "LayoutModel",
            "_view_count": null,
            "_view_module": "@jupyter-widgets/base",
            "_view_module_version": "1.2.0",
            "_view_name": "LayoutView",
            "align_content": null,
            "align_items": null,
            "align_self": null,
            "border": null,
            "bottom": null,
            "display": null,
            "flex": null,
            "flex_flow": null,
            "grid_area": null,
            "grid_auto_columns": null,
            "grid_auto_flow": null,
            "grid_auto_rows": null,
            "grid_column": null,
            "grid_gap": null,
            "grid_row": null,
            "grid_template_areas": null,
            "grid_template_columns": null,
            "grid_template_rows": null,
            "height": null,
            "justify_content": null,
            "justify_items": null,
            "left": null,
            "margin": null,
            "max_height": "620px",
            "max_width": null,
            "min_height": null,
            "min_width": null,
            "object_fit": null,
            "object_position": null,
            "order": null,
            "overflow": null,
            "overflow_x": null,
            "overflow_y": null,
            "padding": null,
            "right": null,
            "top": null,
            "visibility": null,
            "width": null
          }
        },
        "eaeb1eaf2ec9423ba61b83b2404de530": {
          "model_module": "@jupyter-widgets/base",
          "model_name": "LayoutModel",
          "model_module_version": "1.2.0",
          "state": {
            "_model_module": "@jupyter-widgets/base",
            "_model_module_version": "1.2.0",
            "_model_name": "LayoutModel",
            "_view_count": null,
            "_view_module": "@jupyter-widgets/base",
            "_view_module_version": "1.2.0",
            "_view_name": "LayoutView",
            "align_content": null,
            "align_items": null,
            "align_self": null,
            "border": null,
            "bottom": null,
            "display": null,
            "flex": null,
            "flex_flow": null,
            "grid_area": "left",
            "grid_auto_columns": null,
            "grid_auto_flow": null,
            "grid_auto_rows": null,
            "grid_column": null,
            "grid_gap": null,
            "grid_row": null,
            "grid_template_areas": null,
            "grid_template_columns": null,
            "grid_template_rows": null,
            "height": null,
            "justify_content": null,
            "justify_items": null,
            "left": null,
            "margin": null,
            "max_height": null,
            "max_width": null,
            "min_height": null,
            "min_width": null,
            "object_fit": null,
            "object_position": null,
            "order": null,
            "overflow": null,
            "overflow_x": null,
            "overflow_y": null,
            "padding": null,
            "right": null,
            "top": null,
            "visibility": null,
            "width": "100%"
          }
        },
        "5e1f055640e640b5b71cdc7a7aa0ffbd": {
          "model_module": "@jupyter-widgets/controls",
          "model_name": "DescriptionStyleModel",
          "model_module_version": "1.5.0",
          "state": {
            "_model_module": "@jupyter-widgets/controls",
            "_model_module_version": "1.5.0",
            "_model_name": "DescriptionStyleModel",
            "_view_count": null,
            "_view_module": "@jupyter-widgets/base",
            "_view_module_version": "1.2.0",
            "_view_name": "StyleView",
            "description_width": ""
          }
        },
        "8a408d22d4f4435b9bd327ad70547b86": {
          "model_module": "@jupyter-widgets/base",
          "model_name": "LayoutModel",
          "model_module_version": "1.2.0",
          "state": {
            "_model_module": "@jupyter-widgets/base",
            "_model_module_version": "1.2.0",
            "_model_name": "LayoutModel",
            "_view_count": null,
            "_view_module": "@jupyter-widgets/base",
            "_view_module_version": "1.2.0",
            "_view_name": "LayoutView",
            "align_content": null,
            "align_items": null,
            "align_self": null,
            "border": null,
            "bottom": null,
            "display": null,
            "flex": null,
            "flex_flow": null,
            "grid_area": "bottom",
            "grid_auto_columns": null,
            "grid_auto_flow": null,
            "grid_auto_rows": null,
            "grid_column": null,
            "grid_gap": null,
            "grid_row": null,
            "grid_template_areas": null,
            "grid_template_columns": null,
            "grid_template_rows": null,
            "height": null,
            "justify_content": null,
            "justify_items": null,
            "left": null,
            "margin": null,
            "max_height": null,
            "max_width": null,
            "min_height": null,
            "min_width": null,
            "object_fit": null,
            "object_position": null,
            "order": null,
            "overflow": null,
            "overflow_x": null,
            "overflow_y": null,
            "padding": null,
            "right": null,
            "top": null,
            "visibility": null,
            "width": "auto"
          }
        },
        "49c72fb3ff4545269989fb8730622c7c": {
          "model_module": "@jupyter-widgets/controls",
          "model_name": "DescriptionStyleModel",
          "model_module_version": "1.5.0",
          "state": {
            "_model_module": "@jupyter-widgets/controls",
            "_model_module_version": "1.5.0",
            "_model_name": "DescriptionStyleModel",
            "_view_count": null,
            "_view_module": "@jupyter-widgets/base",
            "_view_module_version": "1.2.0",
            "_view_name": "StyleView",
            "description_width": ""
          }
        },
        "62e21e77b1234f83b027fe1ce8b8f617": {
          "model_module": "@jupyter-widgets/base",
          "model_name": "LayoutModel",
          "model_module_version": "1.2.0",
          "state": {
            "_model_module": "@jupyter-widgets/base",
            "_model_module_version": "1.2.0",
            "_model_name": "LayoutModel",
            "_view_count": null,
            "_view_module": "@jupyter-widgets/base",
            "_view_module_version": "1.2.0",
            "_view_name": "LayoutView",
            "align_content": null,
            "align_items": null,
            "align_self": null,
            "border": null,
            "bottom": null,
            "display": null,
            "flex": null,
            "flex_flow": null,
            "grid_area": null,
            "grid_auto_columns": null,
            "grid_auto_flow": null,
            "grid_auto_rows": null,
            "grid_column": null,
            "grid_gap": null,
            "grid_row": null,
            "grid_template_areas": null,
            "grid_template_columns": null,
            "grid_template_rows": null,
            "height": null,
            "justify_content": null,
            "justify_items": null,
            "left": null,
            "margin": null,
            "max_height": null,
            "max_width": null,
            "min_height": null,
            "min_width": null,
            "object_fit": null,
            "object_position": null,
            "order": null,
            "overflow": null,
            "overflow_x": null,
            "overflow_y": null,
            "padding": null,
            "right": null,
            "top": null,
            "visibility": null,
            "width": null
          }
        },
        "e304b7cfdc644c32a16628b6a5209f48": {
          "model_module": "@jupyter-widgets/controls",
          "model_name": "DescriptionStyleModel",
          "model_module_version": "1.5.0",
          "state": {
            "_model_module": "@jupyter-widgets/controls",
            "_model_module_version": "1.5.0",
            "_model_name": "DescriptionStyleModel",
            "_view_count": null,
            "_view_module": "@jupyter-widgets/base",
            "_view_module_version": "1.2.0",
            "_view_name": "StyleView",
            "description_width": ""
          }
        },
        "629eeb1c0b064243ae63e54bfa50e0e8": {
          "model_module": "@jupyter-widgets/base",
          "model_name": "LayoutModel",
          "model_module_version": "1.2.0",
          "state": {
            "_model_module": "@jupyter-widgets/base",
            "_model_module_version": "1.2.0",
            "_model_name": "LayoutModel",
            "_view_count": null,
            "_view_module": "@jupyter-widgets/base",
            "_view_module_version": "1.2.0",
            "_view_name": "LayoutView",
            "align_content": null,
            "align_items": null,
            "align_self": null,
            "border": null,
            "bottom": null,
            "display": null,
            "flex": null,
            "flex_flow": null,
            "grid_area": null,
            "grid_auto_columns": null,
            "grid_auto_flow": null,
            "grid_auto_rows": null,
            "grid_column": null,
            "grid_gap": null,
            "grid_row": null,
            "grid_template_areas": null,
            "grid_template_columns": null,
            "grid_template_rows": null,
            "height": null,
            "justify_content": null,
            "justify_items": null,
            "left": null,
            "margin": null,
            "max_height": null,
            "max_width": null,
            "min_height": null,
            "min_width": null,
            "object_fit": null,
            "object_position": null,
            "order": null,
            "overflow": null,
            "overflow_x": null,
            "overflow_y": null,
            "padding": null,
            "right": null,
            "top": null,
            "visibility": null,
            "width": null
          }
        },
        "4e09f876eb204290a0c15972d5e462a0": {
          "model_module": "@jupyter-widgets/controls",
          "model_name": "DescriptionStyleModel",
          "model_module_version": "1.5.0",
          "state": {
            "_model_module": "@jupyter-widgets/controls",
            "_model_module_version": "1.5.0",
            "_model_name": "DescriptionStyleModel",
            "_view_count": null,
            "_view_module": "@jupyter-widgets/base",
            "_view_module_version": "1.2.0",
            "_view_name": "StyleView",
            "description_width": ""
          }
        },
        "5dda32cd65714a08ab35200402a07023": {
          "model_module": "@jupyter-widgets/base",
          "model_name": "LayoutModel",
          "model_module_version": "1.2.0",
          "state": {
            "_model_module": "@jupyter-widgets/base",
            "_model_module_version": "1.2.0",
            "_model_name": "LayoutModel",
            "_view_count": null,
            "_view_module": "@jupyter-widgets/base",
            "_view_module_version": "1.2.0",
            "_view_name": "LayoutView",
            "align_content": null,
            "align_items": null,
            "align_self": null,
            "border": null,
            "bottom": null,
            "display": null,
            "flex": null,
            "flex_flow": null,
            "grid_area": "top",
            "grid_auto_columns": null,
            "grid_auto_flow": null,
            "grid_auto_rows": null,
            "grid_column": null,
            "grid_gap": null,
            "grid_row": null,
            "grid_template_areas": null,
            "grid_template_columns": null,
            "grid_template_rows": null,
            "height": null,
            "justify_content": null,
            "justify_items": null,
            "left": null,
            "margin": null,
            "max_height": null,
            "max_width": null,
            "min_height": null,
            "min_width": null,
            "object_fit": null,
            "object_position": null,
            "order": null,
            "overflow": null,
            "overflow_x": null,
            "overflow_y": null,
            "padding": null,
            "right": null,
            "top": null,
            "visibility": null,
            "width": null
          }
        },
        "76c5647bff9a44d7b5c1a9b554fd75ab": {
          "model_module": "@jupyter-widgets/controls",
          "model_name": "DescriptionStyleModel",
          "model_module_version": "1.5.0",
          "state": {
            "_model_module": "@jupyter-widgets/controls",
            "_model_module_version": "1.5.0",
            "_model_name": "DescriptionStyleModel",
            "_view_count": null,
            "_view_module": "@jupyter-widgets/base",
            "_view_module_version": "1.2.0",
            "_view_name": "StyleView",
            "description_width": ""
          }
        },
        "6651a4fea73a4d8c8399461d179e3aae": {
          "model_module": "@jupyter-widgets/base",
          "model_name": "LayoutModel",
          "model_module_version": "1.2.0",
          "state": {
            "_model_module": "@jupyter-widgets/base",
            "_model_module_version": "1.2.0",
            "_model_name": "LayoutModel",
            "_view_count": null,
            "_view_module": "@jupyter-widgets/base",
            "_view_module_version": "1.2.0",
            "_view_name": "LayoutView",
            "align_content": null,
            "align_items": null,
            "align_self": null,
            "border": null,
            "bottom": null,
            "display": null,
            "flex": null,
            "flex_flow": null,
            "grid_area": "left",
            "grid_auto_columns": null,
            "grid_auto_flow": null,
            "grid_auto_rows": null,
            "grid_column": null,
            "grid_gap": null,
            "grid_row": null,
            "grid_template_areas": null,
            "grid_template_columns": null,
            "grid_template_rows": null,
            "height": null,
            "justify_content": null,
            "justify_items": null,
            "left": null,
            "margin": null,
            "max_height": null,
            "max_width": null,
            "min_height": null,
            "min_width": null,
            "object_fit": null,
            "object_position": null,
            "order": null,
            "overflow": null,
            "overflow_x": null,
            "overflow_y": null,
            "padding": null,
            "right": null,
            "top": null,
            "visibility": null,
            "width": null
          }
        },
        "e0b8e2056029436c99d4928a4558fffc": {
          "model_module": "@jupyter-widgets/controls",
          "model_name": "DescriptionStyleModel",
          "model_module_version": "1.5.0",
          "state": {
            "_model_module": "@jupyter-widgets/controls",
            "_model_module_version": "1.5.0",
            "_model_name": "DescriptionStyleModel",
            "_view_count": null,
            "_view_module": "@jupyter-widgets/base",
            "_view_module_version": "1.2.0",
            "_view_name": "StyleView",
            "description_width": ""
          }
        },
        "f8b0010c5e8e4338ad831685a9c704b9": {
          "model_module": "@jupyter-widgets/base",
          "model_name": "LayoutModel",
          "model_module_version": "1.2.0",
          "state": {
            "_model_module": "@jupyter-widgets/base",
            "_model_module_version": "1.2.0",
            "_model_name": "LayoutModel",
            "_view_count": null,
            "_view_module": "@jupyter-widgets/base",
            "_view_module_version": "1.2.0",
            "_view_name": "LayoutView",
            "align_content": null,
            "align_items": null,
            "align_self": null,
            "border": null,
            "bottom": null,
            "display": null,
            "flex": null,
            "flex_flow": null,
            "grid_area": "middle",
            "grid_auto_columns": null,
            "grid_auto_flow": null,
            "grid_auto_rows": null,
            "grid_column": null,
            "grid_gap": null,
            "grid_row": null,
            "grid_template_areas": null,
            "grid_template_columns": null,
            "grid_template_rows": null,
            "height": null,
            "justify_content": null,
            "justify_items": null,
            "left": null,
            "margin": null,
            "max_height": null,
            "max_width": null,
            "min_height": null,
            "min_width": null,
            "object_fit": null,
            "object_position": null,
            "order": null,
            "overflow": null,
            "overflow_x": null,
            "overflow_y": null,
            "padding": null,
            "right": null,
            "top": null,
            "visibility": null,
            "width": null
          }
        },
        "fc086e0a10744e4e838c2afb5c577c8d": {
          "model_module": "@jupyter-widgets/controls",
          "model_name": "DescriptionStyleModel",
          "model_module_version": "1.5.0",
          "state": {
            "_model_module": "@jupyter-widgets/controls",
            "_model_module_version": "1.5.0",
            "_model_name": "DescriptionStyleModel",
            "_view_count": null,
            "_view_module": "@jupyter-widgets/base",
            "_view_module_version": "1.2.0",
            "_view_name": "StyleView",
            "description_width": ""
          }
        },
        "123aac27264146d79e454a2c86e1b28f": {
          "model_module": "@jupyter-widgets/base",
          "model_name": "LayoutModel",
          "model_module_version": "1.2.0",
          "state": {
            "_model_module": "@jupyter-widgets/base",
            "_model_module_version": "1.2.0",
            "_model_name": "LayoutModel",
            "_view_count": null,
            "_view_module": "@jupyter-widgets/base",
            "_view_module_version": "1.2.0",
            "_view_name": "LayoutView",
            "align_content": null,
            "align_items": null,
            "align_self": null,
            "border": null,
            "bottom": null,
            "display": null,
            "flex": null,
            "flex_flow": null,
            "grid_area": "right",
            "grid_auto_columns": null,
            "grid_auto_flow": null,
            "grid_auto_rows": null,
            "grid_column": null,
            "grid_gap": null,
            "grid_row": null,
            "grid_template_areas": null,
            "grid_template_columns": null,
            "grid_template_rows": null,
            "height": null,
            "justify_content": null,
            "justify_items": null,
            "left": null,
            "margin": null,
            "max_height": null,
            "max_width": null,
            "min_height": null,
            "min_width": null,
            "object_fit": null,
            "object_position": null,
            "order": null,
            "overflow": null,
            "overflow_x": null,
            "overflow_y": null,
            "padding": null,
            "right": null,
            "top": null,
            "visibility": null,
            "width": null
          }
        },
        "122f4cd639704587a7109646013547cb": {
          "model_module": "@jupyter-widgets/controls",
          "model_name": "DescriptionStyleModel",
          "model_module_version": "1.5.0",
          "state": {
            "_model_module": "@jupyter-widgets/controls",
            "_model_module_version": "1.5.0",
            "_model_name": "DescriptionStyleModel",
            "_view_count": null,
            "_view_module": "@jupyter-widgets/base",
            "_view_module_version": "1.2.0",
            "_view_name": "StyleView",
            "description_width": ""
          }
        },
        "9c54aabc1a6e40cb84f3d0524dfaefd5": {
          "model_module": "@jupyter-widgets/base",
          "model_name": "LayoutModel",
          "model_module_version": "1.2.0",
          "state": {
            "_model_module": "@jupyter-widgets/base",
            "_model_module_version": "1.2.0",
            "_model_name": "LayoutModel",
            "_view_count": null,
            "_view_module": "@jupyter-widgets/base",
            "_view_module_version": "1.2.0",
            "_view_name": "LayoutView",
            "align_content": null,
            "align_items": "center",
            "align_self": null,
            "border": null,
            "bottom": null,
            "display": "flex-inline",
            "flex": null,
            "flex_flow": null,
            "grid_area": null,
            "grid_auto_columns": null,
            "grid_auto_flow": null,
            "grid_auto_rows": null,
            "grid_column": null,
            "grid_gap": null,
            "grid_row": null,
            "grid_template_areas": null,
            "grid_template_columns": null,
            "grid_template_rows": null,
            "height": null,
            "justify_content": null,
            "justify_items": null,
            "left": null,
            "margin": null,
            "max_height": null,
            "max_width": null,
            "min_height": null,
            "min_width": null,
            "object_fit": null,
            "object_position": null,
            "order": null,
            "overflow": null,
            "overflow_x": null,
            "overflow_y": null,
            "padding": null,
            "right": null,
            "top": null,
            "visibility": null,
            "width": null
          }
        },
        "b3e547b1aa184aa5b87fea12208e664a": {
          "model_module": "@jupyter-widgets/base",
          "model_name": "LayoutModel",
          "model_module_version": "1.2.0",
          "state": {
            "_model_module": "@jupyter-widgets/base",
            "_model_module_version": "1.2.0",
            "_model_name": "LayoutModel",
            "_view_count": null,
            "_view_module": "@jupyter-widgets/base",
            "_view_module_version": "1.2.0",
            "_view_name": "LayoutView",
            "align_content": null,
            "align_items": "center",
            "align_self": null,
            "border": null,
            "bottom": null,
            "display": "flex-inline",
            "flex": null,
            "flex_flow": null,
            "grid_area": "right",
            "grid_auto_columns": null,
            "grid_auto_flow": null,
            "grid_auto_rows": null,
            "grid_column": null,
            "grid_gap": null,
            "grid_row": null,
            "grid_template_areas": null,
            "grid_template_columns": null,
            "grid_template_rows": null,
            "height": null,
            "justify_content": null,
            "justify_items": null,
            "left": null,
            "margin": null,
            "max_height": "325px",
            "max_width": null,
            "min_height": null,
            "min_width": null,
            "object_fit": null,
            "object_position": null,
            "order": null,
            "overflow": null,
            "overflow_x": null,
            "overflow_y": null,
            "padding": "10px 10px 10px 10px",
            "right": null,
            "top": null,
            "visibility": null,
            "width": "auto"
          }
        }
      }
    }
  },
  "nbformat": 4,
  "nbformat_minor": 0
}