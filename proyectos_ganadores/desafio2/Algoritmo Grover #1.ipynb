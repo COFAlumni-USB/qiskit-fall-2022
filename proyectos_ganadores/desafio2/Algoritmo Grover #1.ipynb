{
 "cells": [
  {
   "cell_type": "markdown",
   "id": "38e196db-4f53-488b-b533-6e07df9e434f",
   "metadata": {},
   "source": [
    "Algoritmo de Grover #1: Base"
   ]
  },
  {
   "cell_type": "markdown",
   "id": "a9da3529-77c9-485a-8997-1a3ffe505f8e",
   "metadata": {},
   "source": [
    "Importamos todas los recursos requeridos de las librerías necesarios para desarrollar el trabajo.\n",
    "A su vez, se utilizan las herramientas por defecto para armar los circuitos en Qiskit\n",
    "y las herramientas de visualización."
   ]
  },
  {
   "cell_type": "code",
   "execution_count": 18,
   "id": "d79828b9-d1f1-4b7c-a0ac-931328a4327c",
   "metadata": {},
   "outputs": [
    {
     "name": "stderr",
     "output_type": "stream",
     "text": [
      "ibmqfactory.load_account:WARNING:2022-11-04 20:37:49,272: Credentials are already in use. The existing account in the session will be replaced.\n"
     ]
    },
    {
     "name": "stdout",
     "output_type": "stream",
     "text": [
      "ejecutado correctamente\n"
     ]
    }
   ],
   "source": [
    "import numpy as np\n",
    "import math\n",
    "import qiskit as qiskit\n",
    "from numpy import sqrt\n",
    "from random import randint\n",
    "from qiskit import *\n",
    "from qiskit import Aer, QuantumCircuit, IBMQ, execute, quantum_info\n",
    "from qiskit.visualization import plot_state_city, plot_bloch_multivector\n",
    "from qiskit.visualization import plot_histogram\n",
    "from qiskit.tools import job_monitor\n",
    "\n",
    "\n",
    "provider = IBMQ.load_account()\n",
    "nairobi=provider.get_backend('ibm_nairobi')\n",
    "print('ejecutado correctamente')"
   ]
  },
  {
   "cell_type": "markdown",
   "id": "099c8194-b558-4e34-ae49-a6d754dcabb5",
   "metadata": {},
   "source": [
    "A continuación, se procede a armar el circuito cuántico describiendo y/o\n",
    "definiendo los estados/descripciones del comportamiento del qubit.\n",
    "Así como las declaraciones (if, elif, else) establecidas al final que básicamente dependiendo el escenario\n",
    "sucede una forma u otra en el circuito."
   ]
  },
  {
   "cell_type": "code",
   "execution_count": 8,
   "id": "dbc1cc3e-bdd6-48e5-b758-522b07845f28",
   "metadata": {},
   "outputs": [
    {
     "name": "stdout",
     "output_type": "stream",
     "text": [
      "ejecutado correctamente\n"
     ]
    }
   ],
   "source": [
    "def SoQ_Grover_0(qc, x_qubit_0,x_qubit_1,y_qubit):\n",
    "    qc.ccx(x_qubit_0,x_qubit_1,y_qubit)\n",
    "    return qc\n",
    "\n",
    "def SoQ_Grover_1(qc, x_qubit_0,x_qubit_1,y_qubit):\n",
    "    qc.x(x_qubit_0)\n",
    "    qc.ccx(x_qubit_0,x_qubit_1,y_qubit)\n",
    "    qc.x(x_qubit_0)\n",
    "    return qc\n",
    "\n",
    "def SoQ_Grover_2(qc, x_qubit_0,x_qubit_1,y_qubit):\n",
    "    qc.x(x_qubit_1)\n",
    "    qc.ccx(x_qubit_0,x_qubit_1,y_qubit)\n",
    "    qc.x(x_qubit_1)\n",
    "    return qc\n",
    "\n",
    "def SoQ_Grover_3(qc, x_qubit_0,x_qubit_1,y_qubit):\n",
    "    qc.x(x_qubit_0)\n",
    "    qc.x(x_qubit_1)\n",
    "    qc.ccx(x_qubit_0,x_qubit_1,y_qubit)\n",
    "    qc.x(x_qubit_0)\n",
    "    qc.x(x_qubit_1)\n",
    "    return qc\n",
    "\n",
    "def random_oracle(qc, x_qubit_0,x_qubit_1,y_qubit):\n",
    "    rand=randint(0,3)\n",
    "    if rand==3:\n",
    "    \tSoQ_Grover_0(qc, x_qubit_0,x_qubit_1,y_qubit)\n",
    "    elif rand==2:\n",
    "    \tSoQ_Grover_1(qc, x_qubit_0,x_qubit_1,y_qubit)\n",
    "    elif rand==1:\n",
    "    \tSoQ_Grover_2(qc, x_qubit_0,x_qubit_1,y_qubit)\n",
    "    else:\n",
    "    \tSoQ_Grover_3(qc, x_qubit_0,x_qubit_1,y_qubit)         \n",
    "    return qc \n",
    "\n",
    "\n",
    "print('ejecutado correctamente')\n",
    "\n"
   ]
  },
  {
   "cell_type": "markdown",
   "id": "ea32cda0-f750-432b-9e0d-1d259a55e6b2",
   "metadata": {},
   "source": [
    "Esta parte del código, nos permite armar el circuito con la función (QuantumCircuit);\n",
    "que graficando los valores del random oracle, obtenemos el circuito de abajo.\n",
    "Nota: este es la base para formar el algoritmo de Grover."
   ]
  },
  {
   "cell_type": "code",
   "execution_count": 13,
   "id": "2eb09c90-db2c-4ef9-adb0-b2a7a2b8cc49",
   "metadata": {
    "tags": []
   },
   "outputs": [
    {
     "data": {
      "image/png": "[encoded data removed]",
      "text/plain": [
       "<Figure size 267.197x264.88 with 1 Axes>"
      ]
     },
     "execution_count": 13,
     "metadata": {},
     "output_type": "execute_result"
    }
   ],
   "source": [
    "x_register=2\n",
    "y_register=1\n",
    "measure_register=2\n",
    "y_position=x_register+y_register-1\n",
    "\n",
    "circ = QuantumCircuit(x_register+y_register,measure_register)\n",
    "\n",
    "random_oracle(circ, 0,1,2)\n",
    "\n",
    "circ.draw('mpl')\n"
   ]
  },
  {
   "cell_type": "markdown",
   "id": "73031242-9929-4299-9a7a-66b632e832c3",
   "metadata": {},
   "source": [
    "Para mayor obtención de datos procedemos a calcular las compuertas de cada tipo que posee,\n",
    "así como la profundidad del mismo."
   ]
  },
  {
   "cell_type": "code",
   "execution_count": 15,
   "id": "37f1a89d-af29-4477-b181-437e1d10a373",
   "metadata": {},
   "outputs": [
    {
     "data": {
      "text/plain": [
       "OrderedDict([('x', 2), ('ccx', 1)])"
      ]
     },
     "execution_count": 15,
     "metadata": {},
     "output_type": "execute_result"
    }
   ],
   "source": [
    "circ.count_ops()\n"
   ]
  },
  {
   "cell_type": "markdown",
   "id": "1927afcc-4f2e-42ad-8f64-580c591a5965",
   "metadata": {},
   "source": [
    "Profundidad del circuito"
   ]
  },
  {
   "cell_type": "code",
   "execution_count": 16,
   "id": "a3fbeb64-d4cf-457e-bd3f-68345c95117b",
   "metadata": {},
   "outputs": [
    {
     "data": {
      "text/plain": [
       "3"
      ]
     },
     "execution_count": 16,
     "metadata": {},
     "output_type": "execute_result"
    }
   ],
   "source": [
    "circ.depth()"
   ]
  },
  {
   "cell_type": "markdown",
   "id": "7d8a2f8d-a74b-4e38-adfc-e79955109e73",
   "metadata": {},
   "source": [
    "Transpilamos la parte del cirucito que tenemos y calculamos su profundidad real."
   ]
  },
  {
   "cell_type": "code",
   "execution_count": 19,
   "id": "b94463c1-a851-4865-989c-124ad9b05311",
   "metadata": {},
   "outputs": [
    {
     "data": {
      "image/png": "[encoded data removed]",
      "text/plain": [
       "<Figure size 808.997x264.88 with 1 Axes>"
      ]
     },
     "execution_count": 19,
     "metadata": {},
     "output_type": "execute_result"
    }
   ],
   "source": [
    "circ2 = qiskit.transpile(circ,basis_gates =['u1', 'u2', 'u3', 'cx'], optimization_level=3)\n",
    "circ2.draw('mpl')"
   ]
  },
  {
   "cell_type": "markdown",
   "id": "614ac236-e431-4d28-9d23-761ef1a7726d",
   "metadata": {},
   "source": [
    "Profundidad real del circuito"
   ]
  },
  {
   "cell_type": "code",
   "execution_count": 20,
   "id": "d3048160-e6e8-4fc9-a7c6-d4151eba0430",
   "metadata": {},
   "outputs": [
    {
     "data": {
      "text/plain": [
       "12"
      ]
     },
     "execution_count": 20,
     "metadata": {},
     "output_type": "execute_result"
    }
   ],
   "source": [
    "circ2.depth()"
   ]
  }
 ],
 "metadata": {
  "kernelspec": {
   "display_name": "Python 3 (ipykernel)",
   "language": "python",
   "name": "python3"
  },
  "language_info": {
   "codemirror_mode": {
    "name": "ipython",
    "version": 3
   },
   "file_extension": ".py",
   "mimetype": "text/x-python",
   "name": "python",
   "nbconvert_exporter": "python",
   "pygments_lexer": "ipython3",
   "version": "3.8.13"
  },
  "widgets": {
   "application/vnd.jupyter.widget-state+json": {
    "state": {},
    "version_major": 2,
    "version_minor": 0
   }
  }
 },
 "nbformat": 4,
 "nbformat_minor": 5
}
