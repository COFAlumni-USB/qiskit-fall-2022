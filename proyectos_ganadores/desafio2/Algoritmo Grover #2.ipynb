{
 "cells": [
  {
   "cell_type": "markdown",
   "id": "62a7bcf3-09ac-46b5-8bb3-00fb7714d137",
   "metadata": {},
   "source": [
    "Algoritmo de Grover #2: Estructura y Funcionalidad"
   ]
  },
  {
   "cell_type": "raw",
   "id": "0dd44cf1-5b84-4cfc-8270-31567c9d4ee4",
   "metadata": {},
   "source": [
    "Importamos todas los recursos requeridos de las librerías necesarios para desarrollar el trabajo.\n",
    "Para luego ejecutarlo en una de los procesadores (IBMQ_BELEM).\n",
    "A su vez, se utilizan las herramientas por defecto para armar los circuitos en Qiskit\n",
    "y las herramientas de visualización."
   ]
  },
  {
   "cell_type": "code",
   "execution_count": 2,
   "id": "9bd01f0a-890c-4f7d-ae77-b4b32677ecd8",
   "metadata": {},
   "outputs": [
    {
     "name": "stderr",
     "output_type": "stream",
     "text": [
      "ibmqfactory.load_account:WARNING:2022-11-04 20:54:40,844: Credentials are already in use. The existing account in the session will be replaced.\n"
     ]
    },
    {
     "name": "stdout",
     "output_type": "stream",
     "text": [
      "se ha ejecutado correctamente\n"
     ]
    }
   ],
   "source": [
    "import qiskit as qiskit\n",
    "import numpy as np\n",
    "import math\n",
    "from numpy import sqrt\n",
    "from random import randint\n",
    "from qiskit import *\n",
    "from qiskit import Aer, QuantumCircuit, IBMQ, execute, quantum_info\n",
    "from qiskit.visualization import plot_state_city, plot_bloch_multivector\n",
    "from qiskit.visualization import plot_histogram\n",
    "from qiskit.tools import job_monitor\n",
    "\n",
    "provider = IBMQ.load_account()\n",
    "belem = provider.get_backend('ibmq_belem')\n",
    "print('se ha ejecutado correctamente')\n"
   ]
  },
  {
   "cell_type": "markdown",
   "id": "e5c9a0a2-fada-4aad-b97c-4cf64c4679e2",
   "metadata": {},
   "source": [
    "Igual en la base a continuación, se procede a armar el circuito cuántico \n",
    "definiendo el comportamiento del qubit.\n",
    "Así como las declaraciones (if, elif, else) (dicho anteriormente)."
   ]
  },
  {
   "cell_type": "code",
   "execution_count": 3,
   "id": "a22060d7-96e2-4857-a7c1-2ad7cf025edd",
   "metadata": {},
   "outputs": [
    {
     "name": "stdout",
     "output_type": "stream",
     "text": [
      "se ha ejecutado correctamente\n"
     ]
    }
   ],
   "source": [
    "def SoQ_Grover_0(qc, x_qubit_0,x_qubit_1,y_qubit):\n",
    "    qc.ccx(x_qubit_0,x_qubit_1,y_qubit)\n",
    "    return qc\n",
    "\n",
    "def SoQ_Grover_1(qc, x_qubit_0,x_qubit_1,y_qubit):\n",
    "    qc.x(x_qubit_0)\n",
    "    qc.ccx(x_qubit_0,x_qubit_1,y_qubit)\n",
    "    qc.x(x_qubit_0)\n",
    "    return qc\n",
    "\n",
    "def SoQ_Grover_2(qc, x_qubit_0,x_qubit_1,y_qubit):\n",
    "    qc.x(x_qubit_1)\n",
    "    qc.ccx(x_qubit_0,x_qubit_1,y_qubit)\n",
    "    qc.x(x_qubit_1)\n",
    "    return qc\n",
    "\n",
    "def SoQ_Grover_3(qc, x_qubit_0,x_qubit_1,y_qubit):\n",
    "    qc.x(x_qubit_0)\n",
    "    qc.x(x_qubit_1)\n",
    "    qc.ccx(x_qubit_0,x_qubit_1,y_qubit)\n",
    "    qc.x(x_qubit_0)\n",
    "    qc.x(x_qubit_1)\n",
    "    return qc\n",
    "\n",
    "def random_oracle(qc, x_qubit_0,x_qubit_1,y_qubit):\n",
    "    rand=randint(0,3)\n",
    "    if rand==3:\n",
    "    \tSoQ_Grover_0(qc, x_qubit_0,x_qubit_1,y_qubit)\n",
    "    elif rand==2:\n",
    "    \tSoQ_Grover_1(qc, x_qubit_0,x_qubit_1,y_qubit)\n",
    "    elif rand==1:\n",
    "    \tSoQ_Grover_2(qc, x_qubit_0,x_qubit_1,y_qubit)\n",
    "    else:\n",
    "    \tSoQ_Grover_3(qc, x_qubit_0,x_qubit_1,y_qubit)         \n",
    "    return qc \n",
    "\n",
    "\n",
    "\n",
    "\n",
    "print('se ha ejecutado correctamente')"
   ]
  },
  {
   "cell_type": "markdown",
   "id": "d1e1b32e-e1b8-4f8a-b86f-fb9fc6018b95",
   "metadata": {},
   "source": [
    "A partir de aquí, a la hora de graficar el circuitol, antes de trabajar con el random_oracle,\n",
    "se irán añadiendo barras y compuertas de Hadamard, para ir estructurando paso a paso el circuito\n",
    "como sería su estructura en el Composer Lab de Qiskit.\n",
    "\n",
    "Luego de estructurarlo completamente se calculara el número de compuertas\n",
    "así como la profundidad del mismo."
   ]
  },
  {
   "cell_type": "code",
   "execution_count": 4,
   "id": "10e09d6d-796c-4d64-aefd-bc281a4e6007",
   "metadata": {},
   "outputs": [
    {
     "data": {
      "image/png": "[encoded data removed]",
      "text/plain": [
       "<Figure size 206.997x264.88 with 1 Axes>"
      ]
     },
     "execution_count": 4,
     "metadata": {},
     "output_type": "execute_result"
    }
   ],
   "source": [
    "x_register=2\n",
    "y_register=1\n",
    "measure_register=2\n",
    "y_position=x_register+y_register-1\n",
    "\n",
    "circ = QuantumCircuit(x_register+y_register,measure_register)\n",
    "\n",
    "circ.x(y_position)\n",
    "circ.h(range(x_register+y_register))\n",
    "\n",
    "circ.draw('mpl')"
   ]
  },
  {
   "cell_type": "code",
   "execution_count": 5,
   "id": "d50d5817-b72c-4bf6-b92e-851e491c50aa",
   "metadata": {},
   "outputs": [
    {
     "data": {
      "image/png": "[encoded data removed]",
      "text/plain": [
       "<Figure size 267.197x264.88 with 1 Axes>"
      ]
     },
     "execution_count": 5,
     "metadata": {},
     "output_type": "execute_result"
    }
   ],
   "source": [
    "#se añade una barra para separar la x-gate de la h-gate (compuerta de Hadamard)\n",
    "\n",
    "x_register=2\n",
    "y_register=1\n",
    "measure_register=2\n",
    "y_position=x_register+y_register-1\n",
    "\n",
    "circ = QuantumCircuit(x_register+y_register,measure_register)\n",
    "\n",
    "circ.x(y_position)\n",
    "circ.barrier()\n",
    "circ.h(range(x_register+y_register))\n",
    "\n",
    "\n",
    "\n",
    "circ.draw('mpl')"
   ]
  },
  {
   "cell_type": "code",
   "execution_count": 6,
   "id": "bf956113-7ba9-4bf9-9605-66eb54424cc2",
   "metadata": {},
   "outputs": [
    {
     "data": {
      "image/png": "[encoded data removed]",
      "text/plain": [
       "<Figure size 568.197x264.88 with 1 Axes>"
      ]
     },
     "execution_count": 6,
     "metadata": {},
     "output_type": "execute_result"
    }
   ],
   "source": [
    "#es una evolución de la anterior, y podemos ver que entre la dos barras se añade el random_oracle\n",
    "# con sus valores respectivos.\n",
    "x_register=2\n",
    "y_register=1\n",
    "measure_register=2\n",
    "y_position=x_register+y_register-1\n",
    "\n",
    "circ = QuantumCircuit(x_register+y_register,measure_register)\n",
    "\n",
    "circ.x(y_position)\n",
    "circ.barrier()\n",
    "circ.h(range(x_register+y_register))\n",
    "circ.barrier()\n",
    "random_oracle(circ, 0,1,2)\n",
    "circ.barrier()\n",
    "\n",
    "circ.draw('mpl')"
   ]
  },
  {
   "cell_type": "markdown",
   "id": "f45d74d0-8d9b-4afe-b2b4-9e1f2cc87d1a",
   "metadata": {},
   "source": [
    "De lo que llegamos procederemos a calcular el número de compuertas\n",
    "y la profundidad."
   ]
  },
  {
   "cell_type": "code",
   "execution_count": 7,
   "id": "8d473c81-b7c3-4bfb-a06d-9d312e9f101f",
   "metadata": {},
   "outputs": [
    {
     "data": {
      "text/plain": [
       "OrderedDict([('x', 5), ('barrier', 3), ('h', 3), ('ccx', 1)])"
      ]
     },
     "execution_count": 7,
     "metadata": {},
     "output_type": "execute_result"
    }
   ],
   "source": [
    "circ.count_ops()"
   ]
  },
  {
   "cell_type": "code",
   "execution_count": 8,
   "id": "aa5d564b-9de4-4938-a410-cc0cb2d18e80",
   "metadata": {},
   "outputs": [
    {
     "data": {
      "text/plain": [
       "5"
      ]
     },
     "execution_count": 8,
     "metadata": {},
     "output_type": "execute_result"
    }
   ],
   "source": [
    "circ.depth()"
   ]
  },
  {
   "cell_type": "markdown",
   "id": "2d98d74b-92b8-4a58-9507-7d1dd41f4d05",
   "metadata": {},
   "source": [
    "Previo a continuar, procederemos a definir en el circuito\n",
    "la def Grover_Interation, así como unas determinadas compuertas\n",
    "con sus respectivos rangos. Análogo a como lo hicimos al principio.\n"
   ]
  },
  {
   "cell_type": "code",
   "execution_count": 9,
   "id": "b2b52521-7afa-40aa-bac4-2e190434b2a2",
   "metadata": {},
   "outputs": [
    {
     "name": "stdout",
     "output_type": "stream",
     "text": [
      "se ha ejecutado correctamente\n"
     ]
    }
   ],
   "source": [
    "def SoQ_Grover_0(qc, x_qubit_0,x_qubit_1,y_qubit):\n",
    "    qc.ccx(x_qubit_0,x_qubit_1,y_qubit)\n",
    "    return qc\n",
    "\n",
    "def SoQ_Grover_1(qc, x_qubit_0,x_qubit_1,y_qubit):\n",
    "    qc.x(x_qubit_0)\n",
    "    qc.ccx(x_qubit_0,x_qubit_1,y_qubit)\n",
    "    qc.x(x_qubit_0)\n",
    "    return qc\n",
    "\n",
    "def SoQ_Grover_2(qc, x_qubit_0,x_qubit_1,y_qubit):\n",
    "    qc.x(x_qubit_1)\n",
    "    qc.ccx(x_qubit_0,x_qubit_1,y_qubit)\n",
    "    qc.x(x_qubit_1)\n",
    "    return qc\n",
    "\n",
    "def SoQ_Grover_3(qc, x_qubit_0,x_qubit_1,y_qubit):\n",
    "    qc.x(x_qubit_0)\n",
    "    qc.x(x_qubit_1)\n",
    "    qc.ccx(x_qubit_0,x_qubit_1,y_qubit)\n",
    "    qc.x(x_qubit_0)\n",
    "    qc.x(x_qubit_1)\n",
    "    return qc\n",
    "\n",
    "def random_oracle(qc, x_qubit_0,x_qubit_1,y_qubit):\n",
    "    rand=randint(0,3)\n",
    "    if rand==3:\n",
    "    \tSoQ_Grover_0(qc, x_qubit_0,x_qubit_1,y_qubit)\n",
    "    elif rand==2:\n",
    "    \tSoQ_Grover_1(qc, x_qubit_0,x_qubit_1,y_qubit)\n",
    "    elif rand==1:\n",
    "    \tSoQ_Grover_2(qc, x_qubit_0,x_qubit_1,y_qubit)\n",
    "    else:\n",
    "    \tSoQ_Grover_3(qc, x_qubit_0,x_qubit_1,y_qubit)         \n",
    "    return qc \n",
    "\n",
    "#nota: podemos ver la definición y su respectivo comportamiento\n",
    "def Grover_Iteration(qc, x_qubit_0,x_qubit_1):\n",
    "    qc.h(range(2))\n",
    "    qc.x(range(2))\n",
    "    qc.h(x_qubit_1)\n",
    "    qc.cx(x_qubit_0,x_qubit_1)\n",
    "    qc.h(x_qubit_1)\n",
    "    qc.x(range(2))\n",
    "    qc.h(range(2))\n",
    "    \n",
    "    return qc\n",
    "\n",
    "print('se ha ejecutado correctamente')"
   ]
  },
  {
   "cell_type": "markdown",
   "id": "f11d400a-b46c-4535-886f-8d517dcea71d",
   "metadata": {},
   "source": [
    "Podemos seguir armando la estructura visual del circuito, y al terminarla\n",
    "calcularemos obviamente los datos requeridos y lo transpilaremos."
   ]
  },
  {
   "cell_type": "code",
   "execution_count": 10,
   "id": "fceeb604-b30c-4628-8df6-485ff86e5adf",
   "metadata": {},
   "outputs": [
    {
     "data": {
      "image/png": "[encoded data removed]",
      "text/plain": [
       "<Figure size 989.597x264.88 with 1 Axes>"
      ]
     },
     "execution_count": 10,
     "metadata": {},
     "output_type": "execute_result"
    }
   ],
   "source": [
    "#Como podemos ver se ha añadido la def Grover_Iteration\n",
    "x_register=2\n",
    "y_register=1\n",
    "measure_register=2\n",
    "y_position=x_register+y_register-1\n",
    "\n",
    "circ = QuantumCircuit(x_register+y_register,measure_register)\n",
    "\n",
    "circ.x(y_position)\n",
    "circ.barrier()\n",
    "circ.h(range(x_register+y_register))\n",
    "circ.barrier()\n",
    "random_oracle(circ, 0,1,2)\n",
    "circ.barrier()\n",
    "Grover_Iteration(circ, 0,1)\n",
    "\n",
    "circ.draw('mpl')"
   ]
  },
  {
   "cell_type": "code",
   "execution_count": 11,
   "id": "b5420e36-5ab2-4121-8970-ed72a1d1161f",
   "metadata": {},
   "outputs": [
    {
     "data": {
      "image/png": "[encoded data removed]",
      "text/plain": [
       "<Figure size 989.597x264.88 with 1 Axes>"
      ]
     },
     "execution_count": 11,
     "metadata": {},
     "output_type": "execute_result"
    }
   ],
   "source": [
    "#Se añade el circ_measure, con rangos de registro\n",
    "x_register=2\n",
    "y_register=1\n",
    "measure_register=2\n",
    "y_position=x_register+y_register-1\n",
    "\n",
    "circ = QuantumCircuit(x_register+y_register,measure_register)\n",
    "\n",
    "circ.x(y_position)\n",
    "circ.barrier()\n",
    "circ.h(range(x_register+y_register))\n",
    "circ.barrier()\n",
    "random_oracle(circ, 0,1,2)\n",
    "circ.barrier()\n",
    "Grover_Iteration(circ, 0,1)\n",
    "circ.measure(range(x_register),range(measure_register))\n",
    "\n",
    "circ.draw('mpl')"
   ]
  },
  {
   "cell_type": "code",
   "execution_count": 15,
   "id": "66f6e677-f119-4789-a7f2-3b7805bfb444",
   "metadata": {},
   "outputs": [
    {
     "data": {
      "text/plain": [
       "OrderedDict([('h', 9),\n",
       "             ('x', 5),\n",
       "             ('barrier', 3),\n",
       "             ('measure', 2),\n",
       "             ('ccx', 1),\n",
       "             ('cx', 1)])"
      ]
     },
     "execution_count": 15,
     "metadata": {},
     "output_type": "execute_result"
    }
   ],
   "source": [
    "circ.count_ops() "
   ]
  },
  {
   "cell_type": "code",
   "execution_count": 16,
   "id": "455b0289-c00b-47b3-8683-1b6195132189",
   "metadata": {},
   "outputs": [
    {
     "data": {
      "text/plain": [
       "11"
      ]
     },
     "execution_count": 16,
     "metadata": {},
     "output_type": "execute_result"
    }
   ],
   "source": [
    "circ.depth()"
   ]
  },
  {
   "cell_type": "markdown",
   "id": "1ecc7336-495e-4654-b29f-c31c669af8b9",
   "metadata": {},
   "source": [
    "Transpilamos la estructura que tenemos por ahora"
   ]
  },
  {
   "cell_type": "code",
   "execution_count": 19,
   "id": "16543d3f-2479-4852-a745-ac0265b66883",
   "metadata": {},
   "outputs": [
    {
     "data": {
      "image/png": "[encoded data removed]",
      "text/plain": [
       "<Figure size 1350.8x264.88 with 1 Axes>"
      ]
     },
     "execution_count": 19,
     "metadata": {},
     "output_type": "execute_result"
    }
   ],
   "source": [
    "transpile_circuit = qiskit.transpile(circ,basis_gates =['u1', 'u2', 'u3', 'cx'],optimization_level=3)\n",
    "transpile_circuit.draw('mpl')"
   ]
  },
  {
   "cell_type": "markdown",
   "id": "81e7b474-3d46-4624-a260-616b670a17a6",
   "metadata": {},
   "source": [
    "Y de esta transpilación, tenemos la siguiente profundidad real:"
   ]
  },
  {
   "cell_type": "code",
   "execution_count": 22,
   "id": "69144684-ce29-4b02-9b48-a887424e7d2d",
   "metadata": {},
   "outputs": [
    {
     "data": {
      "text/plain": [
       "17"
      ]
     },
     "execution_count": 22,
     "metadata": {},
     "output_type": "execute_result"
    }
   ],
   "source": [
    "transpile_circuit.depth()"
   ]
  },
  {
   "cell_type": "code",
   "execution_count": null,
   "id": "c35597af-8674-425f-a516-66042f39a775",
   "metadata": {},
   "outputs": [],
   "source": [
    "Ahora con la última definición con la cual hemos estructurado el circuito, vamos a probarla y lo que vamos\n",
    "a hacer es inducirle las instrucciones al qiskit.circuit y los vamos a llevar a la simulación\n",
    "con el Aer_Simulator el cual nos dará el estado que debe dar el algoritmo de Grover."
   ]
  },
  {
   "cell_type": "code",
   "execution_count": 23,
   "id": "83e9d12e-8730-4430-985a-8487bfd0d0a7",
   "metadata": {},
   "outputs": [
    {
     "data": {
      "text/plain": [
       "<qiskit.circuit.instructionset.InstructionSet at 0x7fd349778850>"
      ]
     },
     "execution_count": 23,
     "metadata": {},
     "output_type": "execute_result"
    }
   ],
   "source": [
    "x_register=2\n",
    "y_register=1\n",
    "measure_register=2\n",
    "y_position=x_register+y_register-1\n",
    "\n",
    "circ = QuantumCircuit(x_register+y_register,measure_register)\n",
    "\n",
    "circ.x(y_position)\n",
    "circ.barrier()\n",
    "circ.h(range(x_register+y_register))\n",
    "circ.barrier()\n",
    "random_oracle(circ, 0,1,2)\n",
    "circ.barrier()\n",
    "Grover_Iteration(circ, 0,1)\n",
    "circ.measure(range(x_register),range(measure_register))\n",
    "#nota: son las mismas instruccions expresadas a la hora de dar el resultado gráfico arriba, el circuito\n",
    "#completamente estructurado.\n",
    "#circ.draw('mpl') EN ESTE CASO NO LO UTILIZAREMOS solo daremos instrucciones al circuito"
   ]
  },
  {
   "cell_type": "markdown",
   "id": "e1e60f42-27a8-42d4-b730-04dd61a80474",
   "metadata": {},
   "source": [
    "Procedemos a establecer el backend y la reproducción de datos \n",
    "al ejecutar las instrucciones anteriores en el simulador : Aer_Simulator"
   ]
  },
  {
   "cell_type": "code",
   "execution_count": 25,
   "id": "74633bf1-23ae-4ce7-972b-0e8c4a9d06bc",
   "metadata": {},
   "outputs": [
    {
     "data": {
      "image/png": "[encoded data removed]",
      "text/plain": [
       "<Figure size 504x360 with 1 Axes>"
      ]
     },
     "execution_count": 25,
     "metadata": {},
     "output_type": "execute_result"
    }
   ],
   "source": [
    "#simulación \n",
    "backend = Aer.get_backend('aer_simulator') #simulador a usar\n",
    "job = execute(circ, backend, shots=1024) #descripción del trabajo\n",
    "result = job.result()\n",
    "counts = result.get_counts(circ)\n",
    "plot_histogram(counts) #expresa los datos en un histograma"
   ]
  },
  {
   "cell_type": "markdown",
   "id": "95d1b8ec-aa1c-47a0-b29a-45de2e9fd566",
   "metadata": {},
   "source": [
    "Como podemos nos da el estado perfecto (lo que debería ser el resultado correcto del algoritmo)\n",
    "es decir, un estado \"10\""
   ]
  },
  {
   "cell_type": "markdown",
   "id": "c85172fd-b5e1-4595-960f-79bd0f22cba6",
   "metadata": {},
   "source": [
    "Dicho esto, procederemos a ejecutarlo en uno de los procesadores cuánticos para\n",
    "comprobar el resultado simulado anteriormente. Para ello utilizaremos el procesador 'ibmq_belem'"
   ]
  },
  {
   "cell_type": "code",
   "execution_count": 26,
   "id": "3194fcdf-0ec4-41ca-a742-e375edcfbf71",
   "metadata": {},
   "outputs": [
    {
     "name": "stdout",
     "output_type": "stream",
     "text": [
      "Job Status: job has successfully run\n"
     ]
    },
    {
     "data": {
      "image/png": "[encoded data removed]",
      "text/plain": [
       "<Figure size 504x360 with 1 Axes>"
      ]
     },
     "execution_count": 26,
     "metadata": {},
     "output_type": "execute_result"
    }
   ],
   "source": [
    "#Se establecen las instrucciones para ejecutarlo en el procesador.\n",
    "\n",
    "job_q = execute(circ,belem,shots=1024)\n",
    "job_monitor(job_q)\n",
    "result = job.result()\n",
    "counts = result.get_counts(circ)\n",
    "plot_histogram(counts)\n",
    "\n"
   ]
  },
  {
   "cell_type": "markdown",
   "id": "12a7aadc-7b08-4f30-bfc0-b39ead0e86ae",
   "metadata": {},
   "source": [
    "Como podemos el resultado coincide con los datos extraídos del simulador. "
   ]
  }
 ],
 "metadata": {
  "kernelspec": {
   "display_name": "Python 3 (ipykernel)",
   "language": "python",
   "name": "python3"
  },
  "language_info": {
   "codemirror_mode": {
    "name": "ipython",
    "version": 3
   },
   "file_extension": ".py",
   "mimetype": "text/x-python",
   "name": "python",
   "nbconvert_exporter": "python",
   "pygments_lexer": "ipython3",
   "version": "3.8.13"
  },
  "widgets": {
   "application/vnd.jupyter.widget-state+json": {
    "state": {},
    "version_major": 2,
    "version_minor": 0
   }
  }
 },
 "nbformat": 4,
 "nbformat_minor": 5
}
